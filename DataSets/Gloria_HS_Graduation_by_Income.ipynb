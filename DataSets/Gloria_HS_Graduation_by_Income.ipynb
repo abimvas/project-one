{
 "cells": [
  {
   "cell_type": "markdown",
   "metadata": {},
   "source": [
    "## High School Graduation By Income"
   ]
  },
  {
   "cell_type": "markdown",
   "metadata": {
    "collapsed": true
   },
   "source": [
    "\n",
    "\n",
    "** Adjusted Cohort Graduation Rate(ACGR)**\n",
    "\n",
    "**\"http://gradnation.americaspromise.org/sites/default/files/d8/2017-05/Appendix_G.pdf\", As part of an audit conducted by education officials from Alabama in December 2016, it was announced that the graduation rates of the state were inaccurate because the reports had been calculated improperly, hence the rates of this report may have some inflation, since the graduation rates of Alabama is still included here.**\n",
    "\n",
    "**2015(%) = number of low-income students, which was divided by the total cohort size for each state.\n",
    "Estimated non low-income ACGR 2015 (%) = the estimated graduates from all students minus low-income graduates\n",
    "2015 (%) = the number of low-income students divided by the total cohort size within each state. Estimated Non-Low-Income ACGR (%) = the estimated\n",
    "graduates from all students minus low-income graduates divided by the estimated total cohort of all students minus low-income within the cohort (i.e.,\n",
    "using state level ACGRs). Gap Change Between Non-Low-Income and Low-Income ACGR (Percentage Points), 2011-15 = the gap between the estimated\n",
    "non-low-income and low-income ACGRs from 2010-11 to 2013-15. Therefore, positive values indicate gap closure and negative values indicate gap widening.\n",
    "Sources: U.S. Department of Education through provisional data file of SY2010-11 and SY 2014-15 State Level Four-Year Regulatory Adjusted Cohort\n",
    "Graduation Rates and Cohort Counts. Retrieved on November 6, 2016 from http://eddataexpress.ed.gov/state-tables-main.cfm\".**"
   ]
  },
  {
   "cell_type": "code",
   "execution_count": 15,
   "metadata": {
    "collapsed": true
   },
   "outputs": [],
   "source": [
    "#import dependencies\n",
    "import pandas as pd\n",
    "import plotly.plotly as py\n",
    "import plotly.graph_objs as go\n",
    "import matplotlib.pyplot as plt\n",
    "import numpy as np\n",
    "%matplotlib inline"
   ]
  },
  {
   "cell_type": "code",
   "execution_count": 16,
   "metadata": {
    "collapsed": true
   },
   "outputs": [],
   "source": [
    "#https://nces.ed.gov/ccd/tables/ACGR_RE_and_characteristics_2015-16.asp\n",
    "\n",
    "#data1 = pd.read_excel ('../Resources/ACGR_RE_Characteristics_2015-16.xlsx')\n",
    "#data1_drop = data1.drop(['American Indian / Alaska Native','Asian1','Hawaiian Native/Pacific Islander1','Hispanic', 'Black','White', 'Two or more races1'],axis=1)\n",
    "#data1.head()"
   ]
  },
  {
   "cell_type": "markdown",
   "metadata": {},
   "source": [
    "** Data Source ** "
   ]
  },
  {
   "cell_type": "code",
   "execution_count": 17,
   "metadata": {},
   "outputs": [
    {
     "data": {
      "text/html": [
       "<div>\n",
       "<style>\n",
       "    .dataframe thead tr:only-child th {\n",
       "        text-align: right;\n",
       "    }\n",
       "\n",
       "    .dataframe thead th {\n",
       "        text-align: left;\n",
       "    }\n",
       "\n",
       "    .dataframe tbody tr th {\n",
       "        vertical-align: top;\n",
       "    }\n",
       "</style>\n",
       "<table border=\"1\" class=\"dataframe\">\n",
       "  <thead>\n",
       "    <tr style=\"text-align: right;\">\n",
       "      <th></th>\n",
       "      <th>Abb</th>\n",
       "      <th>State</th>\n",
       "      <th>Gap between Non-Low Income \r\n",
       "and Low-Income ACGR (Percentage Points), 2011</th>\n",
       "      <th>Overall 2015 \r\n",
       "ACGR(%)</th>\n",
       "      <th>Percent of Low-Income \r\n",
       "Students in the \r\n",
       "Cohort, 2015 (%)</th>\n",
       "      <th>Estimated \r\n",
       "Non-Low-Income 2015 ACGR(%)</th>\n",
       "      <th>Low-Income 2015\r\n",
       "ACGR(%)</th>\n",
       "      <th>Gap between Non-Low Income \r\n",
       "and Low-Income ACGR\r\n",
       "(Percentage Points, 2015</th>\n",
       "      <th>Gap Change between Non-Low-Income\r\n",
       " and Low-Income ACGR\r\n",
       "(Percentage points), 2011-15</th>\n",
       "    </tr>\n",
       "  </thead>\n",
       "  <tbody>\n",
       "    <tr>\n",
       "      <th>0</th>\n",
       "      <td>AL</td>\n",
       "      <td>Alabama*</td>\n",
       "      <td>19.73</td>\n",
       "      <td>89.3%</td>\n",
       "      <td>49.5%</td>\n",
       "      <td>93.8%</td>\n",
       "      <td>84.7%</td>\n",
       "      <td>9.1</td>\n",
       "      <td>10.6</td>\n",
       "    </tr>\n",
       "    <tr>\n",
       "      <th>1</th>\n",
       "      <td>AK</td>\n",
       "      <td>Alaska</td>\n",
       "      <td>18.28</td>\n",
       "      <td>75.6%</td>\n",
       "      <td>35.8%</td>\n",
       "      <td>80.6%</td>\n",
       "      <td>66.6%</td>\n",
       "      <td>14.0</td>\n",
       "      <td>4.2</td>\n",
       "    </tr>\n",
       "    <tr>\n",
       "      <th>2</th>\n",
       "      <td>AZ</td>\n",
       "      <td>Arizona</td>\n",
       "      <td>7.94</td>\n",
       "      <td>77.4%</td>\n",
       "      <td>39.7%</td>\n",
       "      <td>80.2%</td>\n",
       "      <td>73.1%</td>\n",
       "      <td>7.1</td>\n",
       "      <td>0.8</td>\n",
       "    </tr>\n",
       "    <tr>\n",
       "      <th>3</th>\n",
       "      <td>AR</td>\n",
       "      <td>Arkansas</td>\n",
       "      <td>12.14</td>\n",
       "      <td>84.9%</td>\n",
       "      <td>49.6%</td>\n",
       "      <td>88.1%</td>\n",
       "      <td>81.7%</td>\n",
       "      <td>6.4</td>\n",
       "      <td>5.8</td>\n",
       "    </tr>\n",
       "    <tr>\n",
       "      <th>4</th>\n",
       "      <td>CA</td>\n",
       "      <td>California</td>\n",
       "      <td>15.49</td>\n",
       "      <td>82.0%</td>\n",
       "      <td>67.2%</td>\n",
       "      <td>90.2%</td>\n",
       "      <td>78.0%</td>\n",
       "      <td>12.2</td>\n",
       "      <td>3.3</td>\n",
       "    </tr>\n",
       "  </tbody>\n",
       "</table>\n",
       "</div>"
      ],
      "text/plain": [
       "  Abb       State  \\\n",
       "0  AL    Alabama*   \n",
       "1  AK      Alaska   \n",
       "2  AZ     Arizona   \n",
       "3  AR    Arkansas   \n",
       "4  CA  California   \n",
       "\n",
       "  Gap between Non-Low Income \\r\\nand Low-Income ACGR (Percentage Points), 2011  \\\n",
       "0                                              19.73                             \n",
       "1                                              18.28                             \n",
       "2                                               7.94                             \n",
       "3                                              12.14                             \n",
       "4                                              15.49                             \n",
       "\n",
       "  Overall 2015 \\r\\nACGR(%)  \\\n",
       "0                    89.3%   \n",
       "1                    75.6%   \n",
       "2                    77.4%   \n",
       "3                    84.9%   \n",
       "4                    82.0%   \n",
       "\n",
       "  Percent of Low-Income \\r\\nStudents in the \\r\\nCohort, 2015 (%)  \\\n",
       "0                                              49.5%               \n",
       "1                                              35.8%               \n",
       "2                                              39.7%               \n",
       "3                                              49.6%               \n",
       "4                                              67.2%               \n",
       "\n",
       "  Estimated \\r\\nNon-Low-Income 2015 ACGR(%) Low-Income 2015\\r\\nACGR(%)  \\\n",
       "0                                     93.8%                      84.7%   \n",
       "1                                     80.6%                      66.6%   \n",
       "2                                     80.2%                      73.1%   \n",
       "3                                     88.1%                      81.7%   \n",
       "4                                     90.2%                      78.0%   \n",
       "\n",
       "   Gap between Non-Low Income \\r\\nand Low-Income ACGR\\r\\n(Percentage Points, 2015  \\\n",
       "0                                                9.1                                \n",
       "1                                               14.0                                \n",
       "2                                                7.1                                \n",
       "3                                                6.4                                \n",
       "4                                               12.2                                \n",
       "\n",
       "  Gap Change between Non-Low-Income\\r\\n and Low-Income ACGR\\r\\n(Percentage points), 2011-15  \n",
       "0                                               10.6                                         \n",
       "1                                                4.2                                         \n",
       "2                                                0.8                                         \n",
       "3                                                5.8                                         \n",
       "4                                                3.3                                         "
      ]
     },
     "execution_count": 17,
     "metadata": {},
     "output_type": "execute_result"
    }
   ],
   "source": [
    "# http://gradnation.americaspromise.org/sites/default/files/d8/2017-05/Appendix_G.pdf\n",
    "# used adobe acrobat pro to convert the PDF to excel format\n",
    "df = pd.read_csv(\"../Resources/Main_data_AppendixG.csv\")\n",
    "df.head()\n",
    "\n"
   ]
  },
  {
   "cell_type": "code",
   "execution_count": null,
   "metadata": {
    "collapsed": true,
    "scrolled": true
   },
   "outputs": [],
   "source": []
  },
  {
   "cell_type": "code",
   "execution_count": 18,
   "metadata": {},
   "outputs": [
    {
     "data": {
      "text/html": [
       "<div>\n",
       "<style>\n",
       "    .dataframe thead tr:only-child th {\n",
       "        text-align: right;\n",
       "    }\n",
       "\n",
       "    .dataframe thead th {\n",
       "        text-align: left;\n",
       "    }\n",
       "\n",
       "    .dataframe tbody tr th {\n",
       "        vertical-align: top;\n",
       "    }\n",
       "</style>\n",
       "<table border=\"1\" class=\"dataframe\">\n",
       "  <thead>\n",
       "    <tr style=\"text-align: right;\">\n",
       "      <th></th>\n",
       "      <th>Abb</th>\n",
       "      <th>State</th>\n",
       "      <th>Gap between Non-Low Income \r\n",
       "and Low-Income ACGR (Percentage Points), 2011</th>\n",
       "      <th>Overall 2015 \r\n",
       "ACGR(%)</th>\n",
       "      <th>Percent of Low-Income \r\n",
       "Students in the \r\n",
       "Cohort, 2015 (%)</th>\n",
       "      <th>Estimated \r\n",
       "Non-Low-Income 2015 ACGR(%)</th>\n",
       "      <th>Low-Income 2015\r\n",
       "ACGR(%)</th>\n",
       "      <th>Gap between Non-Low Income \r\n",
       "and Low-Income ACGR\r\n",
       "(Percentage Points, 2015</th>\n",
       "      <th>Gap Change between Non-Low-Income\r\n",
       " and Low-Income ACGR\r\n",
       "(Percentage points), 2011-15</th>\n",
       "    </tr>\n",
       "  </thead>\n",
       "  <tbody>\n",
       "    <tr>\n",
       "      <th>46</th>\n",
       "      <td>WA</td>\n",
       "      <td>Washington</td>\n",
       "      <td>17.38</td>\n",
       "      <td>78.2%</td>\n",
       "      <td>51.2%</td>\n",
       "      <td>88.8%</td>\n",
       "      <td>68.1%</td>\n",
       "      <td>20.7</td>\n",
       "      <td>-3.3</td>\n",
       "    </tr>\n",
       "    <tr>\n",
       "      <th>47</th>\n",
       "      <td>WV</td>\n",
       "      <td>West Virginia</td>\n",
       "      <td>19.86</td>\n",
       "      <td>86.5%</td>\n",
       "      <td>66.4%</td>\n",
       "      <td>93.6%</td>\n",
       "      <td>82.9%</td>\n",
       "      <td>10.7</td>\n",
       "      <td>9.2</td>\n",
       "    </tr>\n",
       "    <tr>\n",
       "      <th>48</th>\n",
       "      <td>WI</td>\n",
       "      <td>Wisconsin</td>\n",
       "      <td>18.00</td>\n",
       "      <td>88.4%</td>\n",
       "      <td>32.2%</td>\n",
       "      <td>93.7%</td>\n",
       "      <td>77.3%</td>\n",
       "      <td>16.4</td>\n",
       "      <td>1.6</td>\n",
       "    </tr>\n",
       "    <tr>\n",
       "      <th>49</th>\n",
       "      <td>WY</td>\n",
       "      <td>Wyoming</td>\n",
       "      <td>21.66</td>\n",
       "      <td>79.3%</td>\n",
       "      <td>39.6%</td>\n",
       "      <td>88.0%</td>\n",
       "      <td>66.0%</td>\n",
       "      <td>22.0</td>\n",
       "      <td>-0.4</td>\n",
       "    </tr>\n",
       "    <tr>\n",
       "      <th>50</th>\n",
       "      <td>NaN</td>\n",
       "      <td>NaN</td>\n",
       "      <td>NaN</td>\n",
       "      <td>NaN</td>\n",
       "      <td>NaN</td>\n",
       "      <td>NaN</td>\n",
       "      <td>NaN</td>\n",
       "      <td>NaN</td>\n",
       "      <td>NaN</td>\n",
       "    </tr>\n",
       "  </tbody>\n",
       "</table>\n",
       "</div>"
      ],
      "text/plain": [
       "    Abb          State  \\\n",
       "46   WA     Washington   \n",
       "47   WV  West Virginia   \n",
       "48   WI      Wisconsin   \n",
       "49   WY        Wyoming   \n",
       "50  NaN            NaN   \n",
       "\n",
       "   Gap between Non-Low Income \\r\\nand Low-Income ACGR (Percentage Points), 2011  \\\n",
       "46                                              17.38                             \n",
       "47                                              19.86                             \n",
       "48                                              18.00                             \n",
       "49                                              21.66                             \n",
       "50                                                NaN                             \n",
       "\n",
       "   Overall 2015 \\r\\nACGR(%)  \\\n",
       "46                    78.2%   \n",
       "47                    86.5%   \n",
       "48                    88.4%   \n",
       "49                    79.3%   \n",
       "50                      NaN   \n",
       "\n",
       "   Percent of Low-Income \\r\\nStudents in the \\r\\nCohort, 2015 (%)  \\\n",
       "46                                              51.2%               \n",
       "47                                              66.4%               \n",
       "48                                              32.2%               \n",
       "49                                              39.6%               \n",
       "50                                                NaN               \n",
       "\n",
       "   Estimated \\r\\nNon-Low-Income 2015 ACGR(%) Low-Income 2015\\r\\nACGR(%)  \\\n",
       "46                                     88.8%                      68.1%   \n",
       "47                                     93.6%                      82.9%   \n",
       "48                                     93.7%                      77.3%   \n",
       "49                                     88.0%                      66.0%   \n",
       "50                                       NaN                        NaN   \n",
       "\n",
       "    Gap between Non-Low Income \\r\\nand Low-Income ACGR\\r\\n(Percentage Points, 2015  \\\n",
       "46                                               20.7                                \n",
       "47                                               10.7                                \n",
       "48                                               16.4                                \n",
       "49                                               22.0                                \n",
       "50                                                NaN                                \n",
       "\n",
       "   Gap Change between Non-Low-Income\\r\\n and Low-Income ACGR\\r\\n(Percentage points), 2011-15  \n",
       "46                                               -3.3                                         \n",
       "47                                                9.2                                         \n",
       "48                                                1.6                                         \n",
       "49                                               -0.4                                         \n",
       "50                                                NaN                                         "
      ]
     },
     "execution_count": 18,
     "metadata": {},
     "output_type": "execute_result"
    }
   ],
   "source": [
    "df.tail()"
   ]
  },
  {
   "cell_type": "code",
   "execution_count": 19,
   "metadata": {},
   "outputs": [
    {
     "data": {
      "text/plain": [
       "Index(['Abb', 'State',\n",
       "       'Gap between Non-Low Income \\r\\nand Low-Income ACGR (Percentage Points), 2011',\n",
       "       'Overall 2015 \\r\\nACGR(%)',\n",
       "       'Percent of Low-Income \\r\\nStudents in the \\r\\nCohort, 2015 (%)',\n",
       "       'Estimated \\r\\nNon-Low-Income 2015 ACGR(%)',\n",
       "       'Low-Income 2015\\r\\nACGR(%)',\n",
       "       'Gap between Non-Low Income \\r\\nand Low-Income ACGR\\r\\n(Percentage Points, 2015',\n",
       "       'Gap Change between Non-Low-Income\\r\\n and Low-Income ACGR\\r\\n(Percentage points), 2011-15'],\n",
       "      dtype='object')"
      ]
     },
     "execution_count": 19,
     "metadata": {},
     "output_type": "execute_result"
    }
   ],
   "source": [
    "df.columns"
   ]
  },
  {
   "cell_type": "markdown",
   "metadata": {},
   "source": [
    "** Cleanup **"
   ]
  },
  {
   "cell_type": "code",
   "execution_count": 20,
   "metadata": {},
   "outputs": [
    {
     "data": {
      "text/html": [
       "<div>\n",
       "<style>\n",
       "    .dataframe thead tr:only-child th {\n",
       "        text-align: right;\n",
       "    }\n",
       "\n",
       "    .dataframe thead th {\n",
       "        text-align: left;\n",
       "    }\n",
       "\n",
       "    .dataframe tbody tr th {\n",
       "        vertical-align: top;\n",
       "    }\n",
       "</style>\n",
       "<table border=\"1\" class=\"dataframe\">\n",
       "  <thead>\n",
       "    <tr style=\"text-align: right;\">\n",
       "      <th></th>\n",
       "      <th>Abb</th>\n",
       "      <th>State</th>\n",
       "      <th>Gap between Non-Low Income \r\n",
       "and Low-Income ACGR (Percentage Points), 2011</th>\n",
       "      <th>Overall 2015 \r\n",
       "ACGR(%)</th>\n",
       "      <th>Estimated \r\n",
       "Non-Low-Income 2015 ACGR(%)</th>\n",
       "      <th>Low-Income 2015\r\n",
       "ACGR(%)</th>\n",
       "      <th>Gap between Non-Low Income \r\n",
       "and Low-Income ACGR\r\n",
       "(Percentage Points, 2015</th>\n",
       "      <th>Gap Change between Non-Low-Income\r\n",
       " and Low-Income ACGR\r\n",
       "(Percentage points), 2011-15</th>\n",
       "    </tr>\n",
       "  </thead>\n",
       "  <tbody>\n",
       "    <tr>\n",
       "      <th>45</th>\n",
       "      <td>VA</td>\n",
       "      <td>Virginia</td>\n",
       "      <td>17.06</td>\n",
       "      <td>85.7</td>\n",
       "      <td>90.5</td>\n",
       "      <td>75.4</td>\n",
       "      <td>15.1</td>\n",
       "      <td>1.9</td>\n",
       "    </tr>\n",
       "    <tr>\n",
       "      <th>46</th>\n",
       "      <td>WA</td>\n",
       "      <td>Washington</td>\n",
       "      <td>17.38</td>\n",
       "      <td>78.2</td>\n",
       "      <td>88.8</td>\n",
       "      <td>68.1</td>\n",
       "      <td>20.7</td>\n",
       "      <td>-3.3</td>\n",
       "    </tr>\n",
       "    <tr>\n",
       "      <th>47</th>\n",
       "      <td>WV</td>\n",
       "      <td>West Virginia</td>\n",
       "      <td>19.86</td>\n",
       "      <td>86.5</td>\n",
       "      <td>93.6</td>\n",
       "      <td>82.9</td>\n",
       "      <td>10.7</td>\n",
       "      <td>9.2</td>\n",
       "    </tr>\n",
       "    <tr>\n",
       "      <th>48</th>\n",
       "      <td>WI</td>\n",
       "      <td>Wisconsin</td>\n",
       "      <td>18.00</td>\n",
       "      <td>88.4</td>\n",
       "      <td>93.7</td>\n",
       "      <td>77.3</td>\n",
       "      <td>16.4</td>\n",
       "      <td>1.6</td>\n",
       "    </tr>\n",
       "    <tr>\n",
       "      <th>49</th>\n",
       "      <td>WY</td>\n",
       "      <td>Wyoming</td>\n",
       "      <td>21.66</td>\n",
       "      <td>79.3</td>\n",
       "      <td>88.0</td>\n",
       "      <td>66.0</td>\n",
       "      <td>22.0</td>\n",
       "      <td>-0.4</td>\n",
       "    </tr>\n",
       "  </tbody>\n",
       "</table>\n",
       "</div>"
      ],
      "text/plain": [
       "   Abb          State  \\\n",
       "45  VA       Virginia   \n",
       "46  WA     Washington   \n",
       "47  WV  West Virginia   \n",
       "48  WI      Wisconsin   \n",
       "49  WY        Wyoming   \n",
       "\n",
       "   Gap between Non-Low Income \\r\\nand Low-Income ACGR (Percentage Points), 2011  \\\n",
       "45                                              17.06                             \n",
       "46                                              17.38                             \n",
       "47                                              19.86                             \n",
       "48                                              18.00                             \n",
       "49                                              21.66                             \n",
       "\n",
       "    Overall 2015 \\r\\nACGR(%)  Estimated \\r\\nNon-Low-Income 2015 ACGR(%)  \\\n",
       "45                      85.7                                       90.5   \n",
       "46                      78.2                                       88.8   \n",
       "47                      86.5                                       93.6   \n",
       "48                      88.4                                       93.7   \n",
       "49                      79.3                                       88.0   \n",
       "\n",
       "    Low-Income 2015\\r\\nACGR(%)  \\\n",
       "45                        75.4   \n",
       "46                        68.1   \n",
       "47                        82.9   \n",
       "48                        77.3   \n",
       "49                        66.0   \n",
       "\n",
       "    Gap between Non-Low Income \\r\\nand Low-Income ACGR\\r\\n(Percentage Points, 2015  \\\n",
       "45                                               15.1                                \n",
       "46                                               20.7                                \n",
       "47                                               10.7                                \n",
       "48                                               16.4                                \n",
       "49                                               22.0                                \n",
       "\n",
       "    Gap Change between Non-Low-Income\\r\\n and Low-Income ACGR\\r\\n(Percentage points), 2011-15  \n",
       "45                                                1.9                                          \n",
       "46                                               -3.3                                          \n",
       "47                                                9.2                                          \n",
       "48                                                1.6                                          \n",
       "49                                               -0.4                                          "
      ]
     },
     "execution_count": 20,
     "metadata": {},
     "output_type": "execute_result"
    }
   ],
   "source": [
    "#dropped irrelevant columns\n",
    "del df[\"Percent of Low-Income \\r\\nStudents in the \\r\\nCohort, 2015 (%)\"]\n",
    "df\n",
    "\n",
    "#removed percentage signs, removed † and replace with NaN, format cells as float\n",
    "df['Low-Income 2015\\r\\nACGR(%)'] = df['Low-Income 2015\\r\\nACGR(%)'].str.replace('%','').astype(float)\n",
    "df['Estimated \\r\\nNon-Low-Income 2015 ACGR(%)'] = df['Estimated \\r\\nNon-Low-Income 2015 ACGR(%)'].str.replace('%','').astype(float)\n",
    "df['Gap Change between Non-Low-Income\\r\\n and Low-Income ACGR\\r\\n(Percentage points), 2011-15'] = df['Gap Change between Non-Low-Income\\r\\n and Low-Income ACGR\\r\\n(Percentage points), 2011-15'].str.replace('†','NaN').astype(float)\n",
    "df['Overall 2015 \\r\\nACGR(%)'] = df['Overall 2015 \\r\\nACGR(%)'].str.replace('%','').astype(float)\n",
    "\n",
    "# drop the last column showing NaN\n",
    "df = df.drop(df.index[len(df)-1])\n",
    "df.tail()"
   ]
  },
  {
   "cell_type": "markdown",
   "metadata": {},
   "source": [
    "### Findings for top and lower 5 states low income students\n",
    "\n",
    "** In what states are low household income high schoolers, most likely to graduate or not graduate from? ** \n",
    "\n",
    "***Ans: Most likely to graduate; Texas, Kentucky, Iowa, Alabama, Indiana\n",
    "Less likely to graduate; Oregon, Wyoming, Colorado, Nevada, New Mexico***"
   ]
  },
  {
   "cell_type": "code",
   "execution_count": 21,
   "metadata": {},
   "outputs": [
    {
     "data": {
      "text/html": [
       "<div>\n",
       "<style>\n",
       "    .dataframe thead tr:only-child th {\n",
       "        text-align: right;\n",
       "    }\n",
       "\n",
       "    .dataframe thead th {\n",
       "        text-align: left;\n",
       "    }\n",
       "\n",
       "    .dataframe tbody tr th {\n",
       "        vertical-align: top;\n",
       "    }\n",
       "</style>\n",
       "<table border=\"1\" class=\"dataframe\">\n",
       "  <thead>\n",
       "    <tr style=\"text-align: right;\">\n",
       "      <th></th>\n",
       "      <th>State</th>\n",
       "      <th>Low-Income 2015\r\n",
       "ACGR(%)</th>\n",
       "    </tr>\n",
       "  </thead>\n",
       "  <tbody>\n",
       "    <tr>\n",
       "      <th>42</th>\n",
       "      <td>Texas</td>\n",
       "      <td>85.6</td>\n",
       "    </tr>\n",
       "    <tr>\n",
       "      <th>16</th>\n",
       "      <td>Kentucky</td>\n",
       "      <td>84.8</td>\n",
       "    </tr>\n",
       "    <tr>\n",
       "      <th>14</th>\n",
       "      <td>Iowa</td>\n",
       "      <td>84.8</td>\n",
       "    </tr>\n",
       "    <tr>\n",
       "      <th>0</th>\n",
       "      <td>Alabama*</td>\n",
       "      <td>84.7</td>\n",
       "    </tr>\n",
       "    <tr>\n",
       "      <th>13</th>\n",
       "      <td>Indiana</td>\n",
       "      <td>84.2</td>\n",
       "    </tr>\n",
       "  </tbody>\n",
       "</table>\n",
       "</div>"
      ],
      "text/plain": [
       "       State  Low-Income 2015\\r\\nACGR(%)\n",
       "42     Texas                        85.6\n",
       "16  Kentucky                        84.8\n",
       "14      Iowa                        84.8\n",
       "0   Alabama*                        84.7\n",
       "13   Indiana                        84.2"
      ]
     },
     "execution_count": 21,
     "metadata": {},
     "output_type": "execute_result"
    }
   ],
   "source": [
    "df[ ['State','Low-Income 2015\\r\\nACGR(%)'] ].sort_values(by='Low-Income 2015\\r\\nACGR(%)', ascending=False).head()"
   ]
  },
  {
   "cell_type": "code",
   "execution_count": 22,
   "metadata": {},
   "outputs": [
    {
     "data": {
      "text/html": [
       "<div>\n",
       "<style>\n",
       "    .dataframe thead tr:only-child th {\n",
       "        text-align: right;\n",
       "    }\n",
       "\n",
       "    .dataframe thead th {\n",
       "        text-align: left;\n",
       "    }\n",
       "\n",
       "    .dataframe tbody tr th {\n",
       "        vertical-align: top;\n",
       "    }\n",
       "</style>\n",
       "<table border=\"1\" class=\"dataframe\">\n",
       "  <thead>\n",
       "    <tr style=\"text-align: right;\">\n",
       "      <th></th>\n",
       "      <th>State</th>\n",
       "      <th>Low-Income 2015\r\n",
       "ACGR(%)</th>\n",
       "    </tr>\n",
       "  </thead>\n",
       "  <tbody>\n",
       "    <tr>\n",
       "      <th>36</th>\n",
       "      <td>Oregon</td>\n",
       "      <td>66.4</td>\n",
       "    </tr>\n",
       "    <tr>\n",
       "      <th>49</th>\n",
       "      <td>Wyoming</td>\n",
       "      <td>66.0</td>\n",
       "    </tr>\n",
       "    <tr>\n",
       "      <th>5</th>\n",
       "      <td>Colorado</td>\n",
       "      <td>65.5</td>\n",
       "    </tr>\n",
       "    <tr>\n",
       "      <th>27</th>\n",
       "      <td>Nevada</td>\n",
       "      <td>63.7</td>\n",
       "    </tr>\n",
       "    <tr>\n",
       "      <th>30</th>\n",
       "      <td>New Mexico</td>\n",
       "      <td>63.5</td>\n",
       "    </tr>\n",
       "  </tbody>\n",
       "</table>\n",
       "</div>"
      ],
      "text/plain": [
       "         State  Low-Income 2015\\r\\nACGR(%)\n",
       "36      Oregon                        66.4\n",
       "49     Wyoming                        66.0\n",
       "5     Colorado                        65.5\n",
       "27      Nevada                        63.7\n",
       "30  New Mexico                        63.5"
      ]
     },
     "execution_count": 22,
     "metadata": {},
     "output_type": "execute_result"
    }
   ],
   "source": [
    "df[ ['State','Low-Income 2015\\r\\nACGR(%)'] ].sort_values(by='Low-Income 2015\\r\\nACGR(%)', ascending=False).tail()"
   ]
  },
  {
   "cell_type": "markdown",
   "metadata": {},
   "source": [
    "** What impact does income have on high school graduation rates? **\n",
    "\n",
    "***Ans: The high the household income, greater the likely hood of graduation from high school***\n",
    "    "
   ]
  },
  {
   "cell_type": "code",
   "execution_count": 23,
   "metadata": {},
   "outputs": [
    {
     "data": {
      "text/plain": [
       "Text(0,0.5,'Estimated Graduation Rates')"
      ]
     },
     "execution_count": 23,
     "metadata": {},
     "output_type": "execute_result"
    },
    {
     "data": {
      "image/png": "[encoded data removed]",
      "text/plain": [
       "<matplotlib.figure.Figure at 0x1ce0cddbac8>"
      ]
     },
     "metadata": {},
     "output_type": "display_data"
    }
   ],
   "source": [
    "#df.plot(x='Percent of Low-Income \\nStudents in the \\nCohort, 2015 (%)', y='Estimated \\nNon-Low-Income 2015 ACGR(%)')\n",
    "df.plot(x=\"Abb\",\n",
    "        y=[\"Low-Income 2015\\r\\nACGR(%)\",\n",
    "          \"Estimated \\r\\nNon-Low-Income 2015 ACGR(%)\"], kind=\"bar\", figsize=(20,20), fontsize=12, legend = True)\n",
    "\n",
    "plt.title(\"Estimated High School graduation based on Household Income 2015\", size = 22)\n",
    "plt.xlabel(\"US States\", size = 22)\n",
    "plt.ylabel(\"Estimated Graduation Rates\", size = 22)\n"
   ]
  },
  {
   "cell_type": "markdown",
   "metadata": {},
   "source": [
    "**What States have closed the gap between low-income and non-low-income graduation rates? **\n",
    "\n",
    "***Ans: Alabama, West Virginia, Connecticut, Indiana, Georgia *** "
   ]
  },
  {
   "cell_type": "code",
   "execution_count": 24,
   "metadata": {},
   "outputs": [
    {
     "data": {
      "text/html": [
       "<div>\n",
       "<style>\n",
       "    .dataframe thead tr:only-child th {\n",
       "        text-align: right;\n",
       "    }\n",
       "\n",
       "    .dataframe thead th {\n",
       "        text-align: left;\n",
       "    }\n",
       "\n",
       "    .dataframe tbody tr th {\n",
       "        vertical-align: top;\n",
       "    }\n",
       "</style>\n",
       "<table border=\"1\" class=\"dataframe\">\n",
       "  <thead>\n",
       "    <tr style=\"text-align: right;\">\n",
       "      <th></th>\n",
       "      <th>State</th>\n",
       "      <th>Gap Change between Non-Low-Income\r\n",
       " and Low-Income ACGR\r\n",
       "(Percentage points), 2011-15</th>\n",
       "    </tr>\n",
       "  </thead>\n",
       "  <tbody>\n",
       "    <tr>\n",
       "      <th>0</th>\n",
       "      <td>Alabama*</td>\n",
       "      <td>10.6</td>\n",
       "    </tr>\n",
       "    <tr>\n",
       "      <th>47</th>\n",
       "      <td>West Virginia</td>\n",
       "      <td>9.2</td>\n",
       "    </tr>\n",
       "    <tr>\n",
       "      <th>6</th>\n",
       "      <td>Connecticut</td>\n",
       "      <td>7.9</td>\n",
       "    </tr>\n",
       "    <tr>\n",
       "      <th>13</th>\n",
       "      <td>Indiana</td>\n",
       "      <td>6.0</td>\n",
       "    </tr>\n",
       "    <tr>\n",
       "      <th>9</th>\n",
       "      <td>Georgia</td>\n",
       "      <td>5.8</td>\n",
       "    </tr>\n",
       "  </tbody>\n",
       "</table>\n",
       "</div>"
      ],
      "text/plain": [
       "            State  \\\n",
       "0        Alabama*   \n",
       "47  West Virginia   \n",
       "6     Connecticut   \n",
       "13        Indiana   \n",
       "9         Georgia   \n",
       "\n",
       "    Gap Change between Non-Low-Income\\r\\n and Low-Income ACGR\\r\\n(Percentage points), 2011-15  \n",
       "0                                                10.6                                          \n",
       "47                                                9.2                                          \n",
       "6                                                 7.9                                          \n",
       "13                                                6.0                                          \n",
       "9                                                 5.8                                          "
      ]
     },
     "execution_count": 24,
     "metadata": {},
     "output_type": "execute_result"
    }
   ],
   "source": [
    "df[ ['State', 'Gap Change between Non-Low-Income\\r\\n and Low-Income ACGR\\r\\n(Percentage points), 2011-15'] ].sort_values(by='Gap Change between Non-Low-Income\\r\\n and Low-Income ACGR\\r\\n(Percentage points), 2011-15', ascending=False).head()"
   ]
  },
  {
   "cell_type": "code",
   "execution_count": null,
   "metadata": {
    "collapsed": true
   },
   "outputs": [],
   "source": []
  },
  {
   "cell_type": "code",
   "execution_count": 25,
   "metadata": {},
   "outputs": [
    {
     "data": {
      "text/plain": [
       "Text(0,0.5,'Adjusted Cohort Graduation Rate')"
      ]
     },
     "execution_count": 25,
     "metadata": {},
     "output_type": "execute_result"
    },
    {
     "data": {
      "image/png": "[encoded data removed]",
      "text/plain": [
       "<matplotlib.figure.Figure at 0x1ce0d51e048>"
      ]
     },
     "metadata": {},
     "output_type": "display_data"
    }
   ],
   "source": [
    "df.plot(x=\"Abb\", y='Gap Change between Non-Low-Income\\r\\n and Low-Income ACGR\\r\\n(Percentage points), 2011-15', kind=\"bar\", figsize=(20,20), fontsize=12)\n",
    "\n",
    "plt.title('Graduation gap between low-income and non-low-income 2011-2015', size = 24)\n",
    "plt.xlabel('US Sates', size=24)\n",
    "plt.ylabel('Adjusted Cohort Graduation Rate',size=24)"
   ]
  },
  {
   "cell_type": "code",
   "execution_count": null,
   "metadata": {
    "collapsed": true
   },
   "outputs": [],
   "source": []
  },
  {
   "cell_type": "code",
   "execution_count": 26,
   "metadata": {},
   "outputs": [
    {
     "data": {
      "text/html": [
       "<iframe id=\"igraph\" scrolling=\"no\" style=\"border:none;\" seamless=\"seamless\" src=\"https://plot.ly/~CuriousMind_UT/174.embed\" height=\"525px\" width=\"100%\"></iframe>"
      ],
      "text/plain": [
       "<plotly.tools.PlotlyDisplay object>"
      ]
     },
     "execution_count": 26,
     "metadata": {},
     "output_type": "execute_result"
    }
   ],
   "source": [
    "#Colorscale = [0-50 'Red', 51-60 'yellow', 61-70 'Purple', 71-80 'Blue', 81-100 'Green']\n",
    "colorscale = [[0,'rgb(210,207,252)'], [1, 'rgb(30,20,174)']]\n",
    "trc = dict(\n",
    "  type ='choropleth', locations = df['Abb'], locationmode = 'USA-states', colorscale=colorscale, z=df[\"Gap between Non-Low Income \\r\\nand Low-Income ACGR\\r\\n(Percentage Points, 2015\"],)\n",
    "lyt = dict(geo = dict(scope ='usa'))\n",
    "map = go.Figure(data=[trc],\n",
    "layout = lyt)\n",
    "\n",
    "py.iplot(map)"
   ]
  }
 ],
 "metadata": {
  "kernelspec": {
   "display_name": "Python 3",
   "language": "python",
   "name": "python3"
  },
  "language_info": {
   "codemirror_mode": {
    "name": "ipython",
    "version": 3
   },
   "file_extension": ".py",
   "mimetype": "text/x-python",
   "name": "python",
   "nbconvert_exporter": "python",
   "pygments_lexer": "ipython3",
   "version": "3.6.3"
  }
 },
 "nbformat": 4,
 "nbformat_minor": 2
}
