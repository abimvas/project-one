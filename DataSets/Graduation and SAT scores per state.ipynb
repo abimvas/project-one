{
 "cells": [
  {
   "cell_type": "code",
   "execution_count": 13,
   "metadata": {
    "collapsed": true
   },
   "outputs": [],
   "source": [
    "import pandas as pd\n",
    "import os\n",
    "import numpy as np\n",
    "import matplotlib.pyplot as plt\n",
    "import seaborn as sns\n",
    "import plotly.plotly as py\n",
    "\n",
    "import plotly.graph_objs as go"
   ]
  },
  {
   "cell_type": "markdown",
   "metadata": {},
   "source": [
    "# Graduation Rates per state based on Race "
   ]
  },
  {
   "cell_type": "code",
   "execution_count": 3,
   "metadata": {},
   "outputs": [
    {
     "data": {
      "text/html": [
       "<div>\n",
       "<style>\n",
       "    .dataframe thead tr:only-child th {\n",
       "        text-align: right;\n",
       "    }\n",
       "\n",
       "    .dataframe thead th {\n",
       "        text-align: left;\n",
       "    }\n",
       "\n",
       "    .dataframe tbody tr th {\n",
       "        vertical-align: top;\n",
       "    }\n",
       "</style>\n",
       "<table border=\"1\" class=\"dataframe\">\n",
       "  <thead>\n",
       "    <tr style=\"text-align: right;\">\n",
       "      <th></th>\n",
       "      <th>State</th>\n",
       "      <th>State1</th>\n",
       "      <th>Average Rate</th>\n",
       "      <th>American Indian/Alaska Native</th>\n",
       "      <th>Asian/Pacific Islander</th>\n",
       "      <th>Hispanic</th>\n",
       "      <th>Black</th>\n",
       "      <th>White</th>\n",
       "    </tr>\n",
       "  </thead>\n",
       "  <tbody>\n",
       "    <tr>\n",
       "      <th>0</th>\n",
       "      <td>AL</td>\n",
       "      <td>Alabama</td>\n",
       "      <td>87.10%</td>\n",
       "      <td>90%</td>\n",
       "      <td>91%</td>\n",
       "      <td>87%</td>\n",
       "      <td>84.50%</td>\n",
       "      <td>88.60%</td>\n",
       "    </tr>\n",
       "    <tr>\n",
       "      <th>1</th>\n",
       "      <td>AK</td>\n",
       "      <td>Alaska</td>\n",
       "      <td>76.10%</td>\n",
       "      <td>64%</td>\n",
       "      <td>81%</td>\n",
       "      <td>76%</td>\n",
       "      <td>74%</td>\n",
       "      <td>80.80%</td>\n",
       "    </tr>\n",
       "    <tr>\n",
       "      <th>2</th>\n",
       "      <td>AZ</td>\n",
       "      <td>Arizona</td>\n",
       "      <td>79.50%</td>\n",
       "      <td>67.70%</td>\n",
       "      <td>89%</td>\n",
       "      <td>76.40%</td>\n",
       "      <td>75.50%</td>\n",
       "      <td>84.00%</td>\n",
       "    </tr>\n",
       "    <tr>\n",
       "      <th>3</th>\n",
       "      <td>AR</td>\n",
       "      <td>Arkansas</td>\n",
       "      <td>87.00%</td>\n",
       "      <td>87%</td>\n",
       "      <td>87%</td>\n",
       "      <td>85.70%</td>\n",
       "      <td>81.50%</td>\n",
       "      <td>89.20%</td>\n",
       "    </tr>\n",
       "    <tr>\n",
       "      <th>4</th>\n",
       "      <td>CA</td>\n",
       "      <td>California</td>\n",
       "      <td>83.00%</td>\n",
       "      <td>74%</td>\n",
       "      <td>92.90%</td>\n",
       "      <td>80.00%</td>\n",
       "      <td>73.00%</td>\n",
       "      <td>88.00%</td>\n",
       "    </tr>\n",
       "  </tbody>\n",
       "</table>\n",
       "</div>"
      ],
      "text/plain": [
       "  State      State1 Average Rate American Indian/Alaska Native  \\\n",
       "0    AL     Alabama       87.10%                           90%   \n",
       "1    AK      Alaska       76.10%                           64%   \n",
       "2    AZ     Arizona       79.50%                        67.70%   \n",
       "3    AR    Arkansas       87.00%                           87%   \n",
       "4    CA  California       83.00%                           74%   \n",
       "\n",
       "  Asian/Pacific Islander Hispanic   Black   White  \n",
       "0                    91%      87%  84.50%  88.60%  \n",
       "1                    81%      76%     74%  80.80%  \n",
       "2                    89%   76.40%  75.50%  84.00%  \n",
       "3                    87%   85.70%  81.50%  89.20%  \n",
       "4                 92.90%   80.00%  73.00%  88.00%  "
      ]
     },
     "execution_count": 3,
     "metadata": {},
     "output_type": "execute_result"
    }
   ],
   "source": [
    "grad_rates = os.path.join('gradrates.csv')\n",
    "grad_df = pd.read_csv(grad_rates)\n",
    "grad_df.head()"
   ]
  },
  {
   "cell_type": "code",
   "execution_count": null,
   "metadata": {
    "collapsed": true
   },
   "outputs": [],
   "source": [
    "for col in grad_df.columns:\n",
    "    grad_df[col] = grad_df[col].astype(str)\n",
    "\n",
    "scl = [[0.0, 'rgb(242,240,247)'],[0.2, 'rgb(218,218,235)'],[0.4, 'rgb(188,189,220)'],\n",
    "            [0.6, 'rgb(158,154,200)'],[0.8, 'rgb(117,107,177)'],[1.0, 'rgb(84,39,143)']]\n",
    "\n",
    "grad_df['State1'] = grad_df['State1'] + '<br>' +\\\n",
    "    'Average Rate: '+grad_df['Average Rate']+\\\n",
    "    'Average American Indian/Alaska Native Rate: '+grad_df['American Indian/Alaska Native']+\\\n",
    "    'Average Asian/Pacific Islander Rate: '+grad_df['Asian/Pacific Islander']+\\\n",
    "    'Average Hispanic Rate: '+grad_df['Hispanic']+\\\n",
    "    'Average Black Rate: '+grad_df['Black']+\\\n",
    "    'Average White Rate: '+grad_df['White']\n",
    "\n",
    "data = [ dict(\n",
    "        type='choropleth',\n",
    "        colorscale = scl,\n",
    "        autocolorscale = False,\n",
    "        locations = grad_df['State1'],\n",
    "        z = grad_df['Average Rate'].astype(float),\n",
    "        locationmode = 'USA-states',\n",
    "        text = grad_df['State1'],\n",
    "        marker = dict(\n",
    "            line = dict (\n",
    "                color = 'rgb(255,255,255)',\n",
    "                width = 2\n",
    "            ) ),\n",
    "        colorbar = dict(\n",
    "            title = \"Average Graduation Rates\")\n",
    "        ) ]\n",
    "\n",
    "layout = dict(\n",
    "        title = 'Average Graduation Rates per State<br>(Hover for breakdown for each rate)',\n",
    "        geo = dict(\n",
    "            scope='usa',\n",
    "            projection=dict( type='albers usa' ),\n",
    "            showlakes = True,\n",
    "            lakecolor = 'rgb(255, 255, 255)'),\n",
    "             )\n",
    "    \n",
    "py.iplot(map)"
   ]
  },
  {
   "cell_type": "markdown",
   "metadata": {},
   "source": [
    "# Average Rates of SAT scores per State"
   ]
  },
  {
   "cell_type": "code",
   "execution_count": 12,
   "metadata": {},
   "outputs": [
    {
     "data": {
      "text/html": [
       "<div>\n",
       "<style>\n",
       "    .dataframe thead tr:only-child th {\n",
       "        text-align: right;\n",
       "    }\n",
       "\n",
       "    .dataframe thead th {\n",
       "        text-align: left;\n",
       "    }\n",
       "\n",
       "    .dataframe tbody tr th {\n",
       "        vertical-align: top;\n",
       "    }\n",
       "</style>\n",
       "<table border=\"1\" class=\"dataframe\">\n",
       "  <thead>\n",
       "    <tr style=\"text-align: right;\">\n",
       "      <th></th>\n",
       "      <th>State</th>\n",
       "      <th>State1</th>\n",
       "      <th>Average New SAT Score</th>\n",
       "      <th>Participation Rate</th>\n",
       "    </tr>\n",
       "  </thead>\n",
       "  <tbody>\n",
       "    <tr>\n",
       "      <th>0</th>\n",
       "      <td>AL</td>\n",
       "      <td>Alabama</td>\n",
       "      <td>998</td>\n",
       "      <td>7%</td>\n",
       "    </tr>\n",
       "    <tr>\n",
       "      <th>1</th>\n",
       "      <td>AK</td>\n",
       "      <td>Alaska</td>\n",
       "      <td>1037</td>\n",
       "      <td>54%</td>\n",
       "    </tr>\n",
       "    <tr>\n",
       "      <th>2</th>\n",
       "      <td>AZ</td>\n",
       "      <td>Arizona</td>\n",
       "      <td>1045</td>\n",
       "      <td>36%</td>\n",
       "    </tr>\n",
       "    <tr>\n",
       "      <th>3</th>\n",
       "      <td>AR</td>\n",
       "      <td>Arkansas</td>\n",
       "      <td>1034</td>\n",
       "      <td>4%</td>\n",
       "    </tr>\n",
       "    <tr>\n",
       "      <th>4</th>\n",
       "      <td>CA</td>\n",
       "      <td>California</td>\n",
       "      <td>1053</td>\n",
       "      <td>60%</td>\n",
       "    </tr>\n",
       "  </tbody>\n",
       "</table>\n",
       "</div>"
      ],
      "text/plain": [
       "  State      State1  Average New SAT Score Participation Rate\n",
       "0    AL     Alabama                    998                 7%\n",
       "1    AK      Alaska                   1037                54%\n",
       "2    AZ     Arizona                   1045                36%\n",
       "3    AR    Arkansas                   1034                 4%\n",
       "4    CA  California                   1053                60%"
      ]
     },
     "execution_count": 12,
     "metadata": {},
     "output_type": "execute_result"
    }
   ],
   "source": [
    "sat_scores = os.path.join('SATscores.csv')\n",
    "sat_df = pd.read_csv(sat_scores)\n",
    "sat_df.head()"
   ]
  },
  {
   "cell_type": "code",
   "execution_count": null,
   "metadata": {
    "collapsed": true
   },
   "outputs": [],
   "source": [
    "sat_df = dict(type='choropleth', locations=sat_df['State'], locationmode='USA-states', colorscale='Greens',\n",
    "         z=sat_df['Average New SAT Score'], colorbar = dict(\n",
    "           title = \"Average SAT Score\"))\n",
    "\n",
    "layout=dict(geo=dict(scope='usa'),  title = 'Average SAT Score per State')\n",
    "map=go.Figure(data=[sat_df], layout=layout)\n",
    "\n",
    "py.iplot(map)"
   ]
  },
  {
   "cell_type": "code",
   "execution_count": null,
   "metadata": {
    "collapsed": true
   },
   "outputs": [],
   "source": []
  }
 ],
 "metadata": {
  "kernelspec": {
   "display_name": "Python [conda env:PythonData]",
   "language": "python",
   "name": "conda-env-PythonData-py"
  },
  "language_info": {
   "codemirror_mode": {
    "name": "ipython",
    "version": 3
   },
   "file_extension": ".py",
   "mimetype": "text/x-python",
   "name": "python",
   "nbconvert_exporter": "python",
   "pygments_lexer": "ipython3",
   "version": "3.6.3"
  }
 },
 "nbformat": 4,
 "nbformat_minor": 2
}
