{
 "cells": [
  {
   "cell_type": "markdown",
   "metadata": {},
   "source": [
    "** Questions **"
   ]
  },
  {
   "cell_type": "markdown",
   "metadata": {},
   "source": [
    "* What impact does income have on high school graduation rates? "
   ]
  },
  {
   "cell_type": "markdown",
   "metadata": {},
   "source": [
    "* In what state are you most likely to graduate from high school even if you're parents have low income? "
   ]
  },
  {
   "cell_type": "code",
   "execution_count": 1,
   "metadata": {},
   "outputs": [
    {
     "name": "stdout",
     "output_type": "stream",
     "text": [
      "Requirement already satisfied: plotly in /Users/abigailvasquez/anaconda3/envs/PythonData/lib/python3.6/site-packages\n",
      "Requirement already satisfied: pytz in /Users/abigailvasquez/anaconda3/envs/PythonData/lib/python3.6/site-packages (from plotly)\n",
      "Requirement already satisfied: requests in /Users/abigailvasquez/anaconda3/envs/PythonData/lib/python3.6/site-packages (from plotly)\n",
      "Requirement already satisfied: six in /Users/abigailvasquez/anaconda3/envs/PythonData/lib/python3.6/site-packages (from plotly)\n",
      "Requirement already satisfied: nbformat>=4.2 in /Users/abigailvasquez/anaconda3/envs/PythonData/lib/python3.6/site-packages (from plotly)\n",
      "Requirement already satisfied: decorator>=4.0.6 in /Users/abigailvasquez/anaconda3/envs/PythonData/lib/python3.6/site-packages (from plotly)\n",
      "Requirement already satisfied: chardet<3.1.0,>=3.0.2 in /Users/abigailvasquez/anaconda3/envs/PythonData/lib/python3.6/site-packages (from requests->plotly)\n",
      "Requirement already satisfied: idna<2.7,>=2.5 in /Users/abigailvasquez/anaconda3/envs/PythonData/lib/python3.6/site-packages (from requests->plotly)\n",
      "Requirement already satisfied: urllib3<1.23,>=1.21.1 in /Users/abigailvasquez/anaconda3/envs/PythonData/lib/python3.6/site-packages (from requests->plotly)\n",
      "Requirement already satisfied: certifi>=2017.4.17 in /Users/abigailvasquez/anaconda3/envs/PythonData/lib/python3.6/site-packages (from requests->plotly)\n",
      "Requirement already satisfied: ipython_genutils in /Users/abigailvasquez/anaconda3/envs/PythonData/lib/python3.6/site-packages (from nbformat>=4.2->plotly)\n",
      "Requirement already satisfied: traitlets>=4.1 in /Users/abigailvasquez/anaconda3/envs/PythonData/lib/python3.6/site-packages (from nbformat>=4.2->plotly)\n",
      "Requirement already satisfied: jsonschema!=2.5.0,>=2.4 in /Users/abigailvasquez/anaconda3/envs/PythonData/lib/python3.6/site-packages (from nbformat>=4.2->plotly)\n",
      "Requirement already satisfied: jupyter_core in /Users/abigailvasquez/anaconda3/envs/PythonData/lib/python3.6/site-packages (from nbformat>=4.2->plotly)\n"
     ]
    }
   ],
   "source": [
    "!pip install plotly"
   ]
  },
  {
   "cell_type": "code",
   "execution_count": null,
   "metadata": {
    "collapsed": true
   },
   "outputs": [],
   "source": []
  },
  {
   "cell_type": "code",
   "execution_count": 2,
   "metadata": {
    "collapsed": true
   },
   "outputs": [],
   "source": [
    "#import dependencies\n",
    "import pandas as pd\n",
    "import plotly.plotly as py\n",
    "import plotly.graph_objs as go\n",
    "import matplotlib.pyplot as plt\n",
    "import numpy as np\n",
    "%matplotlib inline"
   ]
  },
  {
   "cell_type": "code",
   "execution_count": 3,
   "metadata": {
    "collapsed": true
   },
   "outputs": [],
   "source": [
    "#https://nces.ed.gov/ccd/tables/ACGR_RE_and_characteristics_2015-16.asp\n",
    "\n",
    "#data1 = pd.read_excel ('../Resources/ACGR_RE_Characteristics_2015-16.xlsx')\n",
    "#data1_drop = data1.drop(['American Indian / Alaska Native','Asian1','Hawaiian Native/Pacific Islander1','Hispanic', 'Black','White', 'Two or more races1'],axis=1)\n",
    "#data1.head()"
   ]
  },
  {
   "cell_type": "code",
   "execution_count": 4,
   "metadata": {},
   "outputs": [
    {
     "data": {
      "text/html": [
       "<div>\n",
       "<style scoped>\n",
       "    .dataframe tbody tr th:only-of-type {\n",
       "        vertical-align: middle;\n",
       "    }\n",
       "\n",
       "    .dataframe tbody tr th {\n",
       "        vertical-align: top;\n",
       "    }\n",
       "\n",
       "    .dataframe thead th {\n",
       "        text-align: right;\n",
       "    }\n",
       "</style>\n",
       "<table border=\"1\" class=\"dataframe\">\n",
       "  <thead>\n",
       "    <tr style=\"text-align: right;\">\n",
       "      <th></th>\n",
       "      <th>Abb</th>\n",
       "      <th>State</th>\n",
       "      <th>Gap between Non-Low Income \n",
       "and Low-Income ACGR (Percentage Points), 2011</th>\n",
       "      <th>Overall 2015 \n",
       "ACGR(%)</th>\n",
       "      <th>Percent of Low-Income \n",
       "Students in the \n",
       "Cohort, 2015 (%)</th>\n",
       "      <th>Estimated \n",
       "Non-Low-Income 2015 ACGR(%)</th>\n",
       "      <th>Low-Income 2015\n",
       "ACGR(%)</th>\n",
       "      <th>Gap between Non-Low Income \n",
       "and Low-Income ACGR\n",
       "(Percentage Points, 2015</th>\n",
       "      <th>Gap Change between Non-Low-Income\n",
       " and Low-Income ACGR\n",
       "(Percentage points), 2011-15</th>\n",
       "    </tr>\n",
       "  </thead>\n",
       "  <tbody>\n",
       "    <tr>\n",
       "      <th>0</th>\n",
       "      <td>AL</td>\n",
       "      <td>Alabama*</td>\n",
       "      <td>19.73</td>\n",
       "      <td>89.3%89.3%89.3%89.3%89.3%89.3%89.3%89.3%89.3%8...</td>\n",
       "      <td>49.5%49.5%49.5%49.5%49.5%49.5%49.5%49.5%49.5%4...</td>\n",
       "      <td>93.8%93.8%93.8%93.8%93.8%93.8%93.8%93.8%93.8%9...</td>\n",
       "      <td>84.7%84.7%84.7%84.7%84.7%84.7%84.7%84.7%84.7%8...</td>\n",
       "      <td>9.1</td>\n",
       "      <td>10.6</td>\n",
       "    </tr>\n",
       "    <tr>\n",
       "      <th>1</th>\n",
       "      <td>AK</td>\n",
       "      <td>Alaska</td>\n",
       "      <td>18.28</td>\n",
       "      <td>75.6%75.6%75.6%75.6%75.6%75.6%75.6%75.6%75.6%7...</td>\n",
       "      <td>35.8%35.8%35.8%35.8%35.8%35.8%35.8%35.8%35.8%3...</td>\n",
       "      <td>80.6%80.6%80.6%80.6%80.6%80.6%80.6%80.6%80.6%8...</td>\n",
       "      <td>66.6%66.6%66.6%66.6%66.6%66.6%66.6%66.6%66.6%6...</td>\n",
       "      <td>14.0</td>\n",
       "      <td>4.2</td>\n",
       "    </tr>\n",
       "    <tr>\n",
       "      <th>2</th>\n",
       "      <td>AZ</td>\n",
       "      <td>Arizona</td>\n",
       "      <td>7.94</td>\n",
       "      <td>77.4%77.4%77.4%77.4%77.4%77.4%77.4%77.4%77.4%7...</td>\n",
       "      <td>39.7%39.7%39.7%39.7%39.7%39.7%39.7%39.7%39.7%3...</td>\n",
       "      <td>80.2%80.2%80.2%80.2%80.2%80.2%80.2%80.2%80.2%8...</td>\n",
       "      <td>73.1%73.1%73.1%73.1%73.1%73.1%73.1%73.1%73.1%7...</td>\n",
       "      <td>7.1</td>\n",
       "      <td>0.8</td>\n",
       "    </tr>\n",
       "    <tr>\n",
       "      <th>3</th>\n",
       "      <td>AR</td>\n",
       "      <td>Arkansas</td>\n",
       "      <td>12.14</td>\n",
       "      <td>84.9%84.9%84.9%84.9%84.9%84.9%84.9%84.9%84.9%8...</td>\n",
       "      <td>49.6%49.6%49.6%49.6%49.6%49.6%49.6%49.6%49.6%4...</td>\n",
       "      <td>88.1%88.1%88.1%88.1%88.1%88.1%88.1%88.1%88.1%8...</td>\n",
       "      <td>81.7%81.7%81.7%81.7%81.7%81.7%81.7%81.7%81.7%8...</td>\n",
       "      <td>6.4</td>\n",
       "      <td>5.8</td>\n",
       "    </tr>\n",
       "    <tr>\n",
       "      <th>4</th>\n",
       "      <td>CA</td>\n",
       "      <td>California</td>\n",
       "      <td>15.49</td>\n",
       "      <td>82.0%82.0%82.0%82.0%82.0%82.0%82.0%82.0%82.0%8...</td>\n",
       "      <td>67.2%67.2%67.2%67.2%67.2%67.2%67.2%67.2%67.2%6...</td>\n",
       "      <td>90.2%90.2%90.2%90.2%90.2%90.2%90.2%90.2%90.2%9...</td>\n",
       "      <td>78.0%78.0%78.0%78.0%78.0%78.0%78.0%78.0%78.0%7...</td>\n",
       "      <td>12.2</td>\n",
       "      <td>3.3</td>\n",
       "    </tr>\n",
       "  </tbody>\n",
       "</table>\n",
       "</div>"
      ],
      "text/plain": [
       "  Abb       State  \\\n",
       "0  AL    Alabama*   \n",
       "1  AK      Alaska   \n",
       "2  AZ     Arizona   \n",
       "3  AR    Arkansas   \n",
       "4  CA  California   \n",
       "\n",
       "  Gap between Non-Low Income \\nand Low-Income ACGR (Percentage Points), 2011  \\\n",
       "0                                              19.73                           \n",
       "1                                              18.28                           \n",
       "2                                               7.94                           \n",
       "3                                              12.14                           \n",
       "4                                              15.49                           \n",
       "\n",
       "                              Overall 2015 \\nACGR(%)  \\\n",
       "0  89.3%89.3%89.3%89.3%89.3%89.3%89.3%89.3%89.3%8...   \n",
       "1  75.6%75.6%75.6%75.6%75.6%75.6%75.6%75.6%75.6%7...   \n",
       "2  77.4%77.4%77.4%77.4%77.4%77.4%77.4%77.4%77.4%7...   \n",
       "3  84.9%84.9%84.9%84.9%84.9%84.9%84.9%84.9%84.9%8...   \n",
       "4  82.0%82.0%82.0%82.0%82.0%82.0%82.0%82.0%82.0%8...   \n",
       "\n",
       "  Percent of Low-Income \\nStudents in the \\nCohort, 2015 (%)  \\\n",
       "0  49.5%49.5%49.5%49.5%49.5%49.5%49.5%49.5%49.5%4...           \n",
       "1  35.8%35.8%35.8%35.8%35.8%35.8%35.8%35.8%35.8%3...           \n",
       "2  39.7%39.7%39.7%39.7%39.7%39.7%39.7%39.7%39.7%3...           \n",
       "3  49.6%49.6%49.6%49.6%49.6%49.6%49.6%49.6%49.6%4...           \n",
       "4  67.2%67.2%67.2%67.2%67.2%67.2%67.2%67.2%67.2%6...           \n",
       "\n",
       "             Estimated \\nNon-Low-Income 2015 ACGR(%)  \\\n",
       "0  93.8%93.8%93.8%93.8%93.8%93.8%93.8%93.8%93.8%9...   \n",
       "1  80.6%80.6%80.6%80.6%80.6%80.6%80.6%80.6%80.6%8...   \n",
       "2  80.2%80.2%80.2%80.2%80.2%80.2%80.2%80.2%80.2%8...   \n",
       "3  88.1%88.1%88.1%88.1%88.1%88.1%88.1%88.1%88.1%8...   \n",
       "4  90.2%90.2%90.2%90.2%90.2%90.2%90.2%90.2%90.2%9...   \n",
       "\n",
       "                            Low-Income 2015\\nACGR(%)  \\\n",
       "0  84.7%84.7%84.7%84.7%84.7%84.7%84.7%84.7%84.7%8...   \n",
       "1  66.6%66.6%66.6%66.6%66.6%66.6%66.6%66.6%66.6%6...   \n",
       "2  73.1%73.1%73.1%73.1%73.1%73.1%73.1%73.1%73.1%7...   \n",
       "3  81.7%81.7%81.7%81.7%81.7%81.7%81.7%81.7%81.7%8...   \n",
       "4  78.0%78.0%78.0%78.0%78.0%78.0%78.0%78.0%78.0%7...   \n",
       "\n",
       "   Gap between Non-Low Income \\nand Low-Income ACGR\\n(Percentage Points, 2015  \\\n",
       "0                                                9.1                            \n",
       "1                                               14.0                            \n",
       "2                                                7.1                            \n",
       "3                                                6.4                            \n",
       "4                                               12.2                            \n",
       "\n",
       "  Gap Change between Non-Low-Income\\n and Low-Income ACGR\\n(Percentage points), 2011-15  \n",
       "0                                               10.6                                     \n",
       "1                                                4.2                                     \n",
       "2                                                0.8                                     \n",
       "3                                                5.8                                     \n",
       "4                                                3.3                                     "
      ]
     },
     "execution_count": 4,
     "metadata": {},
     "output_type": "execute_result"
    }
   ],
   "source": [
    "# http://gradnation.americaspromise.org/sites/default/files/d8/2017-05/Appendix_G.pdf\n",
    "# used adobe acrobat pro to convert the PDF to excel format\n",
    "df = pd.read_csv('../Resources/Main_data_AppendixG.csv')\n",
    "df[\"Overall 2015 \\nACGR(%)\"]*=100\n",
    "df[\"Percent of Low-Income \\nStudents in the \\nCohort, 2015 (%)\"]*=100\n",
    "df[\"Estimated \\nNon-Low-Income 2015 ACGR(%)\"]*=100\n",
    "df[\"Low-Income 2015\\nACGR(%)\"]*=100\n",
    "#df\n",
    "df.head()\n",
    "\n"
   ]
  },
  {
   "cell_type": "code",
   "execution_count": 5,
   "metadata": {
    "collapsed": true
   },
   "outputs": [],
   "source": [
    "#merged both dataframes\n",
    "#data2 = pd.merge(data1, df, on = 'State')\n",
    "\n",
    "#dropped the race columns from csv\n",
    "#data_drop = data2.drop(['American Indian / Alaska Native','Asian1','Hawaiian Native/Pacific Islander1','Hispanic', 'Black','White', 'Two or more races1'],axis=1)\n",
    "#data_drop.head()\n"
   ]
  },
  {
   "cell_type": "code",
   "execution_count": 6,
   "metadata": {},
   "outputs": [
    {
     "name": "stderr",
     "output_type": "stream",
     "text": [
      "/Users/abigailvasquez/anaconda3/envs/PythonData/lib/python3.6/site-packages/pandas/plotting/_core.py:1716: UserWarning:\n",
      "\n",
      "Pandas doesn't allow columns to be created via a new attribute name - see https://pandas.pydata.org/pandas-docs/stable/indexing.html#attribute-access\n",
      "\n"
     ]
    },
    {
     "ename": "TypeError",
     "evalue": "Empty 'DataFrame': no numeric data to plot",
     "output_type": "error",
     "traceback": [
      "\u001b[0;31m---------------------------------------------------------------------------\u001b[0m",
      "\u001b[0;31mTypeError\u001b[0m                                 Traceback (most recent call last)",
      "\u001b[0;32m<ipython-input-6-d31f1028f5e4>\u001b[0m in \u001b[0;36m<module>\u001b[0;34m()\u001b[0m\n\u001b[1;32m      2\u001b[0m df.plot(x=\"Abb\",\n\u001b[1;32m      3\u001b[0m         y=[\"Percent of Low-Income \\nStudents in the \\nCohort, 2015 (%)\",\n\u001b[0;32m----> 4\u001b[0;31m           \"Estimated \\nNon-Low-Income 2015 ACGR(%)\"], kind=\"bar\", figsize=(20,20), fontsize=12, legend = True)\n\u001b[0m\u001b[1;32m      5\u001b[0m \u001b[0;34m\u001b[0m\u001b[0m\n\u001b[1;32m      6\u001b[0m \u001b[0mplt\u001b[0m\u001b[0;34m.\u001b[0m\u001b[0mtitle\u001b[0m\u001b[0;34m(\u001b[0m\u001b[0;34m\"Estimated High School graduation based on Household Income 2011-2015\"\u001b[0m\u001b[0;34m,\u001b[0m \u001b[0msize\u001b[0m \u001b[0;34m=\u001b[0m \u001b[0;36m22\u001b[0m\u001b[0;34m)\u001b[0m\u001b[0;34m\u001b[0m\u001b[0m\n",
      "\u001b[0;32m~/anaconda3/envs/PythonData/lib/python3.6/site-packages/pandas/plotting/_core.py\u001b[0m in \u001b[0;36m__call__\u001b[0;34m(self, x, y, kind, ax, subplots, sharex, sharey, layout, figsize, use_index, title, grid, legend, style, logx, logy, loglog, xticks, yticks, xlim, ylim, rot, fontsize, colormap, table, yerr, xerr, secondary_y, sort_columns, **kwds)\u001b[0m\n\u001b[1;32m   2675\u001b[0m                           \u001b[0mfontsize\u001b[0m\u001b[0;34m=\u001b[0m\u001b[0mfontsize\u001b[0m\u001b[0;34m,\u001b[0m \u001b[0mcolormap\u001b[0m\u001b[0;34m=\u001b[0m\u001b[0mcolormap\u001b[0m\u001b[0;34m,\u001b[0m \u001b[0mtable\u001b[0m\u001b[0;34m=\u001b[0m\u001b[0mtable\u001b[0m\u001b[0;34m,\u001b[0m\u001b[0;34m\u001b[0m\u001b[0m\n\u001b[1;32m   2676\u001b[0m                           \u001b[0myerr\u001b[0m\u001b[0;34m=\u001b[0m\u001b[0myerr\u001b[0m\u001b[0;34m,\u001b[0m \u001b[0mxerr\u001b[0m\u001b[0;34m=\u001b[0m\u001b[0mxerr\u001b[0m\u001b[0;34m,\u001b[0m \u001b[0msecondary_y\u001b[0m\u001b[0;34m=\u001b[0m\u001b[0msecondary_y\u001b[0m\u001b[0;34m,\u001b[0m\u001b[0;34m\u001b[0m\u001b[0m\n\u001b[0;32m-> 2677\u001b[0;31m                           sort_columns=sort_columns, **kwds)\n\u001b[0m\u001b[1;32m   2678\u001b[0m     \u001b[0m__call__\u001b[0m\u001b[0;34m.\u001b[0m\u001b[0m__doc__\u001b[0m \u001b[0;34m=\u001b[0m \u001b[0mplot_frame\u001b[0m\u001b[0;34m.\u001b[0m\u001b[0m__doc__\u001b[0m\u001b[0;34m\u001b[0m\u001b[0m\n\u001b[1;32m   2679\u001b[0m \u001b[0;34m\u001b[0m\u001b[0m\n",
      "\u001b[0;32m~/anaconda3/envs/PythonData/lib/python3.6/site-packages/pandas/plotting/_core.py\u001b[0m in \u001b[0;36mplot_frame\u001b[0;34m(data, x, y, kind, ax, subplots, sharex, sharey, layout, figsize, use_index, title, grid, legend, style, logx, logy, loglog, xticks, yticks, xlim, ylim, rot, fontsize, colormap, table, yerr, xerr, secondary_y, sort_columns, **kwds)\u001b[0m\n\u001b[1;32m   1900\u001b[0m                  \u001b[0myerr\u001b[0m\u001b[0;34m=\u001b[0m\u001b[0myerr\u001b[0m\u001b[0;34m,\u001b[0m \u001b[0mxerr\u001b[0m\u001b[0;34m=\u001b[0m\u001b[0mxerr\u001b[0m\u001b[0;34m,\u001b[0m\u001b[0;34m\u001b[0m\u001b[0m\n\u001b[1;32m   1901\u001b[0m                  \u001b[0msecondary_y\u001b[0m\u001b[0;34m=\u001b[0m\u001b[0msecondary_y\u001b[0m\u001b[0;34m,\u001b[0m \u001b[0msort_columns\u001b[0m\u001b[0;34m=\u001b[0m\u001b[0msort_columns\u001b[0m\u001b[0;34m,\u001b[0m\u001b[0;34m\u001b[0m\u001b[0m\n\u001b[0;32m-> 1902\u001b[0;31m                  **kwds)\n\u001b[0m\u001b[1;32m   1903\u001b[0m \u001b[0;34m\u001b[0m\u001b[0m\n\u001b[1;32m   1904\u001b[0m \u001b[0;34m\u001b[0m\u001b[0m\n",
      "\u001b[0;32m~/anaconda3/envs/PythonData/lib/python3.6/site-packages/pandas/plotting/_core.py\u001b[0m in \u001b[0;36m_plot\u001b[0;34m(data, x, y, subplots, ax, kind, **kwds)\u001b[0m\n\u001b[1;32m   1727\u001b[0m         \u001b[0mplot_obj\u001b[0m \u001b[0;34m=\u001b[0m \u001b[0mklass\u001b[0m\u001b[0;34m(\u001b[0m\u001b[0mdata\u001b[0m\u001b[0;34m,\u001b[0m \u001b[0msubplots\u001b[0m\u001b[0;34m=\u001b[0m\u001b[0msubplots\u001b[0m\u001b[0;34m,\u001b[0m \u001b[0max\u001b[0m\u001b[0;34m=\u001b[0m\u001b[0max\u001b[0m\u001b[0;34m,\u001b[0m \u001b[0mkind\u001b[0m\u001b[0;34m=\u001b[0m\u001b[0mkind\u001b[0m\u001b[0;34m,\u001b[0m \u001b[0;34m**\u001b[0m\u001b[0mkwds\u001b[0m\u001b[0;34m)\u001b[0m\u001b[0;34m\u001b[0m\u001b[0m\n\u001b[1;32m   1728\u001b[0m \u001b[0;34m\u001b[0m\u001b[0m\n\u001b[0;32m-> 1729\u001b[0;31m     \u001b[0mplot_obj\u001b[0m\u001b[0;34m.\u001b[0m\u001b[0mgenerate\u001b[0m\u001b[0;34m(\u001b[0m\u001b[0;34m)\u001b[0m\u001b[0;34m\u001b[0m\u001b[0m\n\u001b[0m\u001b[1;32m   1730\u001b[0m     \u001b[0mplot_obj\u001b[0m\u001b[0;34m.\u001b[0m\u001b[0mdraw\u001b[0m\u001b[0;34m(\u001b[0m\u001b[0;34m)\u001b[0m\u001b[0;34m\u001b[0m\u001b[0m\n\u001b[1;32m   1731\u001b[0m     \u001b[0;32mreturn\u001b[0m \u001b[0mplot_obj\u001b[0m\u001b[0;34m.\u001b[0m\u001b[0mresult\u001b[0m\u001b[0;34m\u001b[0m\u001b[0m\n",
      "\u001b[0;32m~/anaconda3/envs/PythonData/lib/python3.6/site-packages/pandas/plotting/_core.py\u001b[0m in \u001b[0;36mgenerate\u001b[0;34m(self)\u001b[0m\n\u001b[1;32m    248\u001b[0m     \u001b[0;32mdef\u001b[0m \u001b[0mgenerate\u001b[0m\u001b[0;34m(\u001b[0m\u001b[0mself\u001b[0m\u001b[0;34m)\u001b[0m\u001b[0;34m:\u001b[0m\u001b[0;34m\u001b[0m\u001b[0m\n\u001b[1;32m    249\u001b[0m         \u001b[0mself\u001b[0m\u001b[0;34m.\u001b[0m\u001b[0m_args_adjust\u001b[0m\u001b[0;34m(\u001b[0m\u001b[0;34m)\u001b[0m\u001b[0;34m\u001b[0m\u001b[0m\n\u001b[0;32m--> 250\u001b[0;31m         \u001b[0mself\u001b[0m\u001b[0;34m.\u001b[0m\u001b[0m_compute_plot_data\u001b[0m\u001b[0;34m(\u001b[0m\u001b[0;34m)\u001b[0m\u001b[0;34m\u001b[0m\u001b[0m\n\u001b[0m\u001b[1;32m    251\u001b[0m         \u001b[0mself\u001b[0m\u001b[0;34m.\u001b[0m\u001b[0m_setup_subplots\u001b[0m\u001b[0;34m(\u001b[0m\u001b[0;34m)\u001b[0m\u001b[0;34m\u001b[0m\u001b[0m\n\u001b[1;32m    252\u001b[0m         \u001b[0mself\u001b[0m\u001b[0;34m.\u001b[0m\u001b[0m_make_plot\u001b[0m\u001b[0;34m(\u001b[0m\u001b[0;34m)\u001b[0m\u001b[0;34m\u001b[0m\u001b[0m\n",
      "\u001b[0;32m~/anaconda3/envs/PythonData/lib/python3.6/site-packages/pandas/plotting/_core.py\u001b[0m in \u001b[0;36m_compute_plot_data\u001b[0;34m(self)\u001b[0m\n\u001b[1;32m    363\u001b[0m         \u001b[0;32mif\u001b[0m \u001b[0mis_empty\u001b[0m\u001b[0;34m:\u001b[0m\u001b[0;34m\u001b[0m\u001b[0m\n\u001b[1;32m    364\u001b[0m             raise TypeError('Empty {0!r}: no numeric data to '\n\u001b[0;32m--> 365\u001b[0;31m                             'plot'.format(numeric_data.__class__.__name__))\n\u001b[0m\u001b[1;32m    366\u001b[0m \u001b[0;34m\u001b[0m\u001b[0m\n\u001b[1;32m    367\u001b[0m         \u001b[0mself\u001b[0m\u001b[0;34m.\u001b[0m\u001b[0mdata\u001b[0m \u001b[0;34m=\u001b[0m \u001b[0mnumeric_data\u001b[0m\u001b[0;34m\u001b[0m\u001b[0m\n",
      "\u001b[0;31mTypeError\u001b[0m: Empty 'DataFrame': no numeric data to plot"
     ]
    }
   ],
   "source": [
    "#df.plot(x='Percent of Low-Income \\nStudents in the \\nCohort, 2015 (%)', y='Estimated \\nNon-Low-Income 2015 ACGR(%)')\n",
    "df.plot(x=\"Abb\",\n",
    "        y=[\"Percent of Low-Income \\nStudents in the \\nCohort, 2015 (%)\",\n",
    "          \"Estimated \\nNon-Low-Income 2015 ACGR(%)\"], kind=\"bar\", figsize=(20,20), fontsize=12, legend = True)\n",
    "\n",
    "plt.title(\"Estimated High School graduation based on Household Income 2011-2015\", size = 22)\n",
    "plt.xlabel(\"US States\", size = 22)\n",
    "plt.ylabel(\"Estimated Graduation Rates\", size = 22)"
   ]
  },
  {
   "cell_type": "code",
   "execution_count": null,
   "metadata": {
    "collapsed": true
   },
   "outputs": [],
   "source": []
  },
  {
   "cell_type": "code",
   "execution_count": null,
   "metadata": {},
   "outputs": [],
   "source": [
    "df.plot(x=\"Abb\", y=\"Gap Change between Non-Low-Income\\n and Low-Income ACGR\\n(Percentage points), 2011-15\", kind=\"bar\", figsize=(20,20), fontsize=12)\n",
    "\n",
    "plt.title('Adjusted Cohort Graduation Rate (ACGR) by State, Percent Low-Income, ACGR Low-Income,ACGR Estimated Non-Low-Income, Gap between Low-Income and Non-Low-Income, and Gap Change 2011-2015')\n",
    "plt.xlabel('US Sates', size=18)\n",
    "plt.ylabel('Adjusted Cohort Graduation Rate',size=18)"
   ]
  },
  {
   "cell_type": "code",
   "execution_count": null,
   "metadata": {
    "collapsed": true
   },
   "outputs": [],
   "source": []
  },
  {
   "cell_type": "code",
   "execution_count": null,
   "metadata": {},
   "outputs": [],
   "source": [
    "#Colorscale = [0-50 'Red', 51-60 'yellow', 61-70 'Purple', 71-80 'Blue', 81-100 'Green']\n",
    "colorscale = [[0,'rgb(210,207,252)'], [1, 'rgb(30,20,174)']]\n",
    "trc = dict(\n",
    "  type ='choropleth', locations = df['Abb'], locationmode = 'USA-states', colorscale=colorscale, z=df[\"Gap between Non-Low Income \\nand Low-Income ACGR\\n(Percentage Points, 2015\"],)\n",
    "lyt = dict(geo = dict(scope ='usa'))\n",
    "map = go.Figure(data=[trc],\n",
    "layout = lyt)\n",
    "\n",
    "py.iplot(map)"
   ]
  },
  {
   "cell_type": "code",
   "execution_count": null,
   "metadata": {
    "collapsed": true
   },
   "outputs": [],
   "source": []
  }
 ],
 "metadata": {
  "kernelspec": {
   "display_name": "Python [default]",
   "language": "python",
   "name": "python3"
  }
 },
 "nbformat": 4,
 "nbformat_minor": 2
}
