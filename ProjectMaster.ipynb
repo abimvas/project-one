{
 "cells": [
  {
   "cell_type": "code",
   "execution_count": 40,
   "metadata": {
    "collapsed": true
   },
   "outputs": [],
   "source": [
    "# dependencies\n",
    "import pandas as pd\n",
    "import numpy as np\n",
    "import os\n",
    "import matplotlib.pyplot as plt\n",
    "import seaborn as sns\n",
    "import plotly.plotly as py\n",
    "import plotly.graph_objs as go"
   ]
  },
  {
   "cell_type": "code",
   "execution_count": 41,
   "metadata": {},
   "outputs": [],
   "source": [
    "# plotly credentials\n",
    "import config\n",
    "username = config.username\n",
    "api_key = config.api_key\n",
    "plotly.tools.set_credentials_file(username=username, api_key=api_key)"
   ]
  },
  {
   "cell_type": "markdown",
   "metadata": {},
   "source": [
    "### School Funding (Revenue) by State ###"
   ]
  },
  {
   "cell_type": "code",
   "execution_count": 20,
   "metadata": {
    "collapsed": true
   },
   "outputs": [],
   "source": [
    "# uploading csv and creating dataframe\n",
    "rev_data = os.path.join('Resources','Stfis14_1a.csv')\n",
    "rev_data_df = pd.read_csv(rev_data)\n",
    "rev_data_df.head()"
   ]
  },
  {
   "cell_type": "code",
   "execution_count": 21,
   "metadata": {
    "collapsed": true
   },
   "outputs": [],
   "source": [
    "# filtering out the wanted data\n",
    "rev_data_df = rev_data_df[[\"SURVYEAR\", \"STABR\", \"STNAME\", \"STR1\", \"R3\", \"STR4\", \"TR\", \"E11\", \"E11A\"]]\n",
    "rev_data_df.head()"
   ]
  },
  {
   "cell_type": "code",
   "execution_count": 22,
   "metadata": {},
   "outputs": [],
   "source": [
    "# using csv file key to rename columns\n",
    "renamed_df = rev_data_df.rename(columns={\"SURVYEAR\":\"YEAR\", \"STABR\":\"ST\", \"STNAME\":\"STATE\", \n",
    "                                         \"STR1\":\"LOCAL REVENUES SUBTOTAL\", \n",
    "                                        \"R3\":\"STATE REVENUES\", \"STR4\":\"FEDERAL REVENUES SUBTOTAL\", \n",
    "                                        \"TR\":\"TOTAL REVENUES FROM ALL SOURCES\", \n",
    "                                         \"E11\":\"INSTRUCTIONAL EXPENDITURES SALARIES\", \n",
    "                                        \"E11A\":\"TEACHER SALARIES REGULAR PROGRAMS\"})\n",
    "renamed_df.head()"
   ]
  },
  {
   "cell_type": "code",
   "execution_count": 23,
   "metadata": {},
   "outputs": [
    {
     "data": {
      "text/html": [
       "<iframe id=\"igraph\" scrolling=\"no\" style=\"border:none;\" seamless=\"seamless\" src=\"https://plot.ly/~abi.mvasquez/90.embed\" height=\"525px\" width=\"100%\"></iframe>"
      ],
      "text/plain": [
       "<plotly.tools.PlotlyDisplay object>"
      ]
     },
     "execution_count": 23,
     "metadata": {},
     "output_type": "execute_result"
    }
   ],
   "source": [
    "# school funding (revenue) by state data in map\n",
    "trc = dict(type='choropleth', locations=renamed_df[\"ST\"], locationmode='USA-states', colorscale='Greens',\n",
    "          z=renamed_df[\"TOTAL REVENUES FROM ALL SOURCES\"], colorbar = dict(\n",
    "            title = \"Billions of Dollars\"))\n",
    "\n",
    "layout=dict(geo=dict(scope='usa'),  title = 'School Funding (Revenue) by State')\n",
    "map=go.Figure(data=[trc], layout=layout)\n",
    "\n",
    "py.iplot(map)"
   ]
  },
  {
   "cell_type": "markdown",
   "metadata": {},
   "source": [
    "### Teen Pregnancy Rate by State ###"
   ]
  },
  {
   "cell_type": "code",
   "execution_count": 25,
   "metadata": {},
   "outputs": [
    {
     "data": {
      "text/html": [
       "<div>\n",
       "<style scoped>\n",
       "    .dataframe tbody tr th:only-of-type {\n",
       "        vertical-align: middle;\n",
       "    }\n",
       "\n",
       "    .dataframe tbody tr th {\n",
       "        vertical-align: top;\n",
       "    }\n",
       "\n",
       "    .dataframe thead th {\n",
       "        text-align: right;\n",
       "    }\n",
       "</style>\n",
       "<table border=\"1\" class=\"dataframe\">\n",
       "  <thead>\n",
       "    <tr style=\"text-align: right;\">\n",
       "      <th></th>\n",
       "      <th>STATE</th>\n",
       "      <th>RATE</th>\n",
       "      <th>URL</th>\n",
       "    </tr>\n",
       "  </thead>\n",
       "  <tbody>\n",
       "    <tr>\n",
       "      <th>0</th>\n",
       "      <td>AL</td>\n",
       "      <td>28.4</td>\n",
       "      <td>/nchs/pressroom/states/alabama/alabama.htm</td>\n",
       "    </tr>\n",
       "    <tr>\n",
       "      <th>1</th>\n",
       "      <td>AK</td>\n",
       "      <td>25.8</td>\n",
       "      <td>/nchs/pressroom/states/alaska/alaska.htm</td>\n",
       "    </tr>\n",
       "    <tr>\n",
       "      <th>2</th>\n",
       "      <td>AZ</td>\n",
       "      <td>23.6</td>\n",
       "      <td>/nchs/pressroom/states/arizona/arizona.htm</td>\n",
       "    </tr>\n",
       "    <tr>\n",
       "      <th>3</th>\n",
       "      <td>AR</td>\n",
       "      <td>34.6</td>\n",
       "      <td>/nchs/pressroom/states/arkansas/arkansas.htm</td>\n",
       "    </tr>\n",
       "    <tr>\n",
       "      <th>4</th>\n",
       "      <td>CA</td>\n",
       "      <td>17.0</td>\n",
       "      <td>/nchs/pressroom/states/california/california.htm</td>\n",
       "    </tr>\n",
       "  </tbody>\n",
       "</table>\n",
       "</div>"
      ],
      "text/plain": [
       "  STATE  RATE                                               URL\n",
       "0    AL  28.4        /nchs/pressroom/states/alabama/alabama.htm\n",
       "1    AK  25.8          /nchs/pressroom/states/alaska/alaska.htm\n",
       "2    AZ  23.6        /nchs/pressroom/states/arizona/arizona.htm\n",
       "3    AR  34.6      /nchs/pressroom/states/arkansas/arkansas.htm\n",
       "4    CA  17.0  /nchs/pressroom/states/california/california.htm"
      ]
     },
     "execution_count": 25,
     "metadata": {},
     "output_type": "execute_result"
    }
   ],
   "source": [
    "# import super janky csv and create dataframe\n",
    "#https://www.cdc.gov/nchs/pressroom/sosmap/teen-births/teenbirths.htm\n",
    "# birth rate is (number of births) x 1000 / estimated population at mid-year\n",
    "preg_data = os.path.join('Resources','TEENBIRTHS2016.csv')\n",
    "preg_data_df = pd.read_csv(preg_data)\n",
    "preg_data_df.head()"
   ]
  },
  {
   "cell_type": "code",
   "execution_count": 28,
   "metadata": {},
   "outputs": [
    {
     "data": {
      "text/html": [
       "<iframe id=\"igraph\" scrolling=\"no\" style=\"border:none;\" seamless=\"seamless\" src=\"https://plot.ly/~abi.mvasquez/96.embed\" height=\"525px\" width=\"100%\"></iframe>"
      ],
      "text/plain": [
       "<plotly.tools.PlotlyDisplay object>"
      ]
     },
     "execution_count": 28,
     "metadata": {},
     "output_type": "execute_result"
    }
   ],
   "source": [
    "# teen pregnancy rate by state data map\n",
    "trc = dict(type='choropleth', locations=preg_data_df[\"STATE\"], locationmode='USA-states', colorscale='Picnic',\n",
    "          z=preg_data_df[\"RATE\"], colorbar = dict(\n",
    "            title = \"Percent (%)\"))\n",
    "\n",
    "layout=dict(geo=dict(scope='usa'),  title = 'Teen Pregnancy Rates per State')\n",
    "map=go.Figure(data=[trc], layout=layout)\n",
    "\n",
    "py.iplot(map)"
   ]
  },
  {
   "cell_type": "markdown",
   "metadata": {},
   "source": [
    "### Spending per Student by State ###"
   ]
  },
  {
   "cell_type": "code",
   "execution_count": 30,
   "metadata": {},
   "outputs": [
    {
     "data": {
      "text/html": [
       "<div>\n",
       "<style scoped>\n",
       "    .dataframe tbody tr th:only-of-type {\n",
       "        vertical-align: middle;\n",
       "    }\n",
       "\n",
       "    .dataframe tbody tr th {\n",
       "        vertical-align: top;\n",
       "    }\n",
       "\n",
       "    .dataframe thead th {\n",
       "        text-align: right;\n",
       "    }\n",
       "</style>\n",
       "<table border=\"1\" class=\"dataframe\">\n",
       "  <thead>\n",
       "    <tr style=\"text-align: right;\">\n",
       "      <th></th>\n",
       "      <th>State</th>\n",
       "      <th>Spending per Student</th>\n",
       "    </tr>\n",
       "  </thead>\n",
       "  <tbody>\n",
       "    <tr>\n",
       "      <th>0</th>\n",
       "      <td>DC</td>\n",
       "      <td>29865.60</td>\n",
       "    </tr>\n",
       "    <tr>\n",
       "      <th>1</th>\n",
       "      <td>NY</td>\n",
       "      <td>23326.89</td>\n",
       "    </tr>\n",
       "    <tr>\n",
       "      <th>2</th>\n",
       "      <td>CT</td>\n",
       "      <td>20576.57</td>\n",
       "    </tr>\n",
       "    <tr>\n",
       "      <th>3</th>\n",
       "      <td>NJ</td>\n",
       "      <td>20525.21</td>\n",
       "    </tr>\n",
       "    <tr>\n",
       "      <th>4</th>\n",
       "      <td>AK</td>\n",
       "      <td>20403.77</td>\n",
       "    </tr>\n",
       "  </tbody>\n",
       "</table>\n",
       "</div>"
      ],
      "text/plain": [
       "  State  Spending per Student\n",
       "0    DC              29865.60\n",
       "1    NY              23326.89\n",
       "2    CT              20576.57\n",
       "3    NJ              20525.21\n",
       "4    AK              20403.77"
      ]
     },
     "execution_count": 30,
     "metadata": {},
     "output_type": "execute_result"
    }
   ],
   "source": [
    "# import csv and create dataframe\n",
    "#https://www.census.gov/data/tables/2014/econ/school-finances/secondary-education-finance.html\n",
    "stu_spend = os.path.join('Resources','studentspending.csv')\n",
    "stu_spend_df = pd.read_csv(stu_spend)\n",
    "stu_spend_df.head()"
   ]
  },
  {
   "cell_type": "code",
   "execution_count": 31,
   "metadata": {},
   "outputs": [
    {
     "data": {
      "text/html": [
       "<iframe id=\"igraph\" scrolling=\"no\" style=\"border:none;\" seamless=\"seamless\" src=\"https://plot.ly/~abi.mvasquez/98.embed\" height=\"525px\" width=\"100%\"></iframe>"
      ],
      "text/plain": [
       "<plotly.tools.PlotlyDisplay object>"
      ]
     },
     "execution_count": 31,
     "metadata": {},
     "output_type": "execute_result"
    }
   ],
   "source": [
    "# spending per student by state data map\n",
    "trc = dict(type='choropleth', locations=stu_spend_df[\"State\"], locationmode='USA-states', colorscale='Viridis',\n",
    "          z=stu_spend_df[\"Spending per Student\"], colorbar = dict(title = \"Thousands of Dollars\"))\n",
    "lyt=dict(geo=dict(scope='usa'), title = 'Spending per Student by State')\n",
    "map=go.Figure(data=[trc], layout=lyt)\n",
    "py.iplot(map)"
   ]
  },
  {
   "cell_type": "markdown",
   "metadata": {},
   "source": [
    "### Average SAT Scores by State ###"
   ]
  },
  {
   "cell_type": "code",
   "execution_count": 32,
   "metadata": {},
   "outputs": [
    {
     "data": {
      "text/html": [
       "<div>\n",
       "<style scoped>\n",
       "    .dataframe tbody tr th:only-of-type {\n",
       "        vertical-align: middle;\n",
       "    }\n",
       "\n",
       "    .dataframe tbody tr th {\n",
       "        vertical-align: top;\n",
       "    }\n",
       "\n",
       "    .dataframe thead th {\n",
       "        text-align: right;\n",
       "    }\n",
       "</style>\n",
       "<table border=\"1\" class=\"dataframe\">\n",
       "  <thead>\n",
       "    <tr style=\"text-align: right;\">\n",
       "      <th></th>\n",
       "      <th>State</th>\n",
       "      <th>State1</th>\n",
       "      <th>Average New SAT Score</th>\n",
       "      <th>Participation Rate</th>\n",
       "    </tr>\n",
       "  </thead>\n",
       "  <tbody>\n",
       "    <tr>\n",
       "      <th>0</th>\n",
       "      <td>AL</td>\n",
       "      <td>Alabama</td>\n",
       "      <td>998</td>\n",
       "      <td>7%</td>\n",
       "    </tr>\n",
       "    <tr>\n",
       "      <th>1</th>\n",
       "      <td>AK</td>\n",
       "      <td>Alaska</td>\n",
       "      <td>1037</td>\n",
       "      <td>54%</td>\n",
       "    </tr>\n",
       "    <tr>\n",
       "      <th>2</th>\n",
       "      <td>AZ</td>\n",
       "      <td>Arizona</td>\n",
       "      <td>1045</td>\n",
       "      <td>36%</td>\n",
       "    </tr>\n",
       "    <tr>\n",
       "      <th>3</th>\n",
       "      <td>AR</td>\n",
       "      <td>Arkansas</td>\n",
       "      <td>1034</td>\n",
       "      <td>4%</td>\n",
       "    </tr>\n",
       "    <tr>\n",
       "      <th>4</th>\n",
       "      <td>CA</td>\n",
       "      <td>California</td>\n",
       "      <td>1053</td>\n",
       "      <td>60%</td>\n",
       "    </tr>\n",
       "  </tbody>\n",
       "</table>\n",
       "</div>"
      ],
      "text/plain": [
       "  State      State1  Average New SAT Score Participation Rate\n",
       "0    AL     Alabama                    998                 7%\n",
       "1    AK      Alaska                   1037                54%\n",
       "2    AZ     Arizona                   1045                36%\n",
       "3    AR    Arkansas                   1034                 4%\n",
       "4    CA  California                   1053                60%"
      ]
     },
     "execution_count": 32,
     "metadata": {},
     "output_type": "execute_result"
    }
   ],
   "source": [
    "# import csv and create dataframe\n",
    "sat_scores = os.path.join('Resources', 'SATscores.csv')\n",
    "sat_df = pd.read_csv(sat_scores)\n",
    "sat_df.head()"
   ]
  },
  {
   "cell_type": "code",
   "execution_count": 33,
   "metadata": {},
   "outputs": [
    {
     "data": {
      "text/html": [
       "<iframe id=\"igraph\" scrolling=\"no\" style=\"border:none;\" seamless=\"seamless\" src=\"https://plot.ly/~abi.mvasquez/100.embed\" height=\"525px\" width=\"100%\"></iframe>"
      ],
      "text/plain": [
       "<plotly.tools.PlotlyDisplay object>"
      ]
     },
     "execution_count": 33,
     "metadata": {},
     "output_type": "execute_result"
    }
   ],
   "source": [
    "# average SAT scores by state data map\n",
    "sat_df = dict(type='choropleth', locations=sat_df['State'], locationmode='USA-states', colorscale='Blues',\n",
    "        z=sat_df['Average New SAT Score'], colorbar = dict(\n",
    "          title = \"Average SAT Score\"))\n",
    "\n",
    "layout=dict(geo=dict(scope='usa'),  title = 'Average SAT Score per State')\n",
    "map=go.Figure(data=[sat_df], layout=layout)\n",
    "\n",
    "py.iplot(map)"
   ]
  },
  {
   "cell_type": "markdown",
   "metadata": {},
   "source": [
    "### Average Graduation Rates by State ###"
   ]
  },
  {
   "cell_type": "code",
   "execution_count": 34,
   "metadata": {},
   "outputs": [
    {
     "data": {
      "text/html": [
       "<div>\n",
       "<style scoped>\n",
       "    .dataframe tbody tr th:only-of-type {\n",
       "        vertical-align: middle;\n",
       "    }\n",
       "\n",
       "    .dataframe tbody tr th {\n",
       "        vertical-align: top;\n",
       "    }\n",
       "\n",
       "    .dataframe thead th {\n",
       "        text-align: right;\n",
       "    }\n",
       "</style>\n",
       "<table border=\"1\" class=\"dataframe\">\n",
       "  <thead>\n",
       "    <tr style=\"text-align: right;\">\n",
       "      <th></th>\n",
       "      <th>State</th>\n",
       "      <th>State1</th>\n",
       "      <th>Average Rate</th>\n",
       "      <th>American Indian/Alaska Native</th>\n",
       "      <th>Asian/Pacific Islander</th>\n",
       "      <th>Hispanic</th>\n",
       "      <th>Black</th>\n",
       "      <th>White</th>\n",
       "    </tr>\n",
       "  </thead>\n",
       "  <tbody>\n",
       "    <tr>\n",
       "      <th>0</th>\n",
       "      <td>AL</td>\n",
       "      <td>Alabama</td>\n",
       "      <td>0.871</td>\n",
       "      <td>0.900</td>\n",
       "      <td>0.910</td>\n",
       "      <td>0.870</td>\n",
       "      <td>0.845</td>\n",
       "      <td>0.886</td>\n",
       "    </tr>\n",
       "    <tr>\n",
       "      <th>1</th>\n",
       "      <td>AK</td>\n",
       "      <td>Alaska</td>\n",
       "      <td>0.761</td>\n",
       "      <td>0.640</td>\n",
       "      <td>0.810</td>\n",
       "      <td>0.760</td>\n",
       "      <td>0.740</td>\n",
       "      <td>0.808</td>\n",
       "    </tr>\n",
       "    <tr>\n",
       "      <th>2</th>\n",
       "      <td>AZ</td>\n",
       "      <td>Arizona</td>\n",
       "      <td>0.795</td>\n",
       "      <td>0.677</td>\n",
       "      <td>0.890</td>\n",
       "      <td>0.764</td>\n",
       "      <td>0.755</td>\n",
       "      <td>0.840</td>\n",
       "    </tr>\n",
       "    <tr>\n",
       "      <th>3</th>\n",
       "      <td>AR</td>\n",
       "      <td>Arkansas</td>\n",
       "      <td>0.870</td>\n",
       "      <td>0.870</td>\n",
       "      <td>0.870</td>\n",
       "      <td>0.857</td>\n",
       "      <td>0.815</td>\n",
       "      <td>0.892</td>\n",
       "    </tr>\n",
       "    <tr>\n",
       "      <th>4</th>\n",
       "      <td>CA</td>\n",
       "      <td>California</td>\n",
       "      <td>0.830</td>\n",
       "      <td>0.740</td>\n",
       "      <td>0.929</td>\n",
       "      <td>0.800</td>\n",
       "      <td>0.730</td>\n",
       "      <td>0.880</td>\n",
       "    </tr>\n",
       "  </tbody>\n",
       "</table>\n",
       "</div>"
      ],
      "text/plain": [
       "  State      State1  Average Rate  American Indian/Alaska Native  \\\n",
       "0    AL     Alabama         0.871                          0.900   \n",
       "1    AK      Alaska         0.761                          0.640   \n",
       "2    AZ     Arizona         0.795                          0.677   \n",
       "3    AR    Arkansas         0.870                          0.870   \n",
       "4    CA  California         0.830                          0.740   \n",
       "\n",
       "   Asian/Pacific Islander  Hispanic  Black  White  \n",
       "0                   0.910     0.870  0.845  0.886  \n",
       "1                   0.810     0.760  0.740  0.808  \n",
       "2                   0.890     0.764  0.755  0.840  \n",
       "3                   0.870     0.857  0.815  0.892  \n",
       "4                   0.929     0.800  0.730  0.880  "
      ]
     },
     "execution_count": 34,
     "metadata": {},
     "output_type": "execute_result"
    }
   ],
   "source": [
    "# import csv and create dataframe\n",
    "grad_rates = os.path.join('Resources','gradrates.csv')\n",
    "grad_df = pd.read_csv(grad_rates)\n",
    "grad_df.head()"
   ]
  },
  {
   "cell_type": "code",
   "execution_count": 36,
   "metadata": {},
   "outputs": [
    {
     "data": {
      "text/html": [
       "<iframe id=\"igraph\" scrolling=\"no\" style=\"border:none;\" seamless=\"seamless\" src=\"https://plot.ly/~abi.mvasquez/102.embed\" height=\"525px\" width=\"100%\"></iframe>"
      ],
      "text/plain": [
       "<plotly.tools.PlotlyDisplay object>"
      ]
     },
     "execution_count": 36,
     "metadata": {},
     "output_type": "execute_result"
    }
   ],
   "source": [
    "# assigning object type as strings\n",
    "for col in grad_df.columns:\n",
    "    grad_df[col] = grad_df[col].astype(str)\n",
    "\n",
    "# average graduation rates by state data map\n",
    "scl = [[0.0, 'rgb(242,240,247)'],[0.2, 'rgb(218,218,235)'],[0.4, 'rgb(188,189,220)'],\n",
    "            [0.6, 'rgb(158,154,200)'],[0.8, 'rgb(117,107,177)'],[1.0, 'rgb(84,39,143)']]\n",
    "\n",
    "grad_df['State1'] = grad_df['State1'] + '<br>' +\\\n",
    "    'Average Rate: '+grad_df['Average Rate']+\\\n",
    "    'Average American Indian/Alaska Native Rate: '+grad_df['American Indian/Alaska Native']+\\\n",
    "    'Average Asian/Pacific Islander Rate: '+grad_df['Asian/Pacific Islander']+\\\n",
    "    'Average Hispanic Rate: '+grad_df['Hispanic']+\\\n",
    "    'Average Black Rate: '+grad_df['Black']+\\\n",
    "    'Average White Rate: '+grad_df['White']\n",
    "data = [ dict(\n",
    "        type='choropleth',\n",
    "        colorscale = scl,\n",
    "        autocolorscale = False,\n",
    "        locations = grad_df['State1'],\n",
    "        z = grad_df['Average Rate'].astype(float),\n",
    "        locationmode = 'USA-states',\n",
    "        text = grad_df['State1'],\n",
    "        marker = dict(\n",
    "            line = dict (\n",
    "                color = 'rgb(255,255,255)',\n",
    "                width = 2\n",
    "            ) ),\n",
    "        colorbar = dict(\n",
    "            title = \"Average Graduation Rates\")\n",
    "        ) ]\n",
    "layout = dict(\n",
    "        title = 'Average Graduation Rates per State<br>(Hover for breakdown for each rate)',\n",
    "        geo = dict(\n",
    "            scope='usa',\n",
    "            projection=dict( type='albers usa' ),\n",
    "            showlakes = True,\n",
    "            lakecolor = 'rgb(255, 255, 255)'),\n",
    "             )\n",
    "map=go.Figure(data=data, layout=layout)\n",
    "py.iplot(map)"
   ]
  },
  {
   "cell_type": "markdown",
   "metadata": {},
   "source": [
    "### Average Teacher Salary by State ###"
   ]
  },
  {
   "cell_type": "code",
   "execution_count": 42,
   "metadata": {},
   "outputs": [
    {
     "data": {
      "text/html": [
       "<div>\n",
       "<style scoped>\n",
       "    .dataframe tbody tr th:only-of-type {\n",
       "        vertical-align: middle;\n",
       "    }\n",
       "\n",
       "    .dataframe tbody tr th {\n",
       "        vertical-align: top;\n",
       "    }\n",
       "\n",
       "    .dataframe thead th {\n",
       "        text-align: right;\n",
       "    }\n",
       "</style>\n",
       "<table border=\"1\" class=\"dataframe\">\n",
       "  <thead>\n",
       "    <tr style=\"text-align: right;\">\n",
       "      <th></th>\n",
       "      <th>State</th>\n",
       "      <th>STATE1</th>\n",
       "      <th>AVERAGE STARTING SALARY</th>\n",
       "      <th>AVERAGE SALARY</th>\n",
       "    </tr>\n",
       "  </thead>\n",
       "  <tbody>\n",
       "    <tr>\n",
       "      <th>0</th>\n",
       "      <td>AL</td>\n",
       "      <td>Alabama</td>\n",
       "      <td>36198</td>\n",
       "      <td>47949</td>\n",
       "    </tr>\n",
       "    <tr>\n",
       "      <th>1</th>\n",
       "      <td>AK</td>\n",
       "      <td>Alaska</td>\n",
       "      <td>44166</td>\n",
       "      <td>65468</td>\n",
       "    </tr>\n",
       "    <tr>\n",
       "      <th>2</th>\n",
       "      <td>AZ</td>\n",
       "      <td>Arkansas</td>\n",
       "      <td>32691</td>\n",
       "      <td>46632</td>\n",
       "    </tr>\n",
       "    <tr>\n",
       "      <th>3</th>\n",
       "      <td>AR</td>\n",
       "      <td>Arizona</td>\n",
       "      <td>31874</td>\n",
       "      <td>49885</td>\n",
       "    </tr>\n",
       "    <tr>\n",
       "      <th>4</th>\n",
       "      <td>CA</td>\n",
       "      <td>California</td>\n",
       "      <td>41259</td>\n",
       "      <td>69324</td>\n",
       "    </tr>\n",
       "  </tbody>\n",
       "</table>\n",
       "</div>"
      ],
      "text/plain": [
       "  State      STATE1  AVERAGE STARTING SALARY  AVERAGE SALARY\n",
       "0    AL     Alabama                    36198           47949\n",
       "1    AK      Alaska                    44166           65468\n",
       "2    AZ    Arkansas                    32691           46632\n",
       "3    AR     Arizona                    31874           49885\n",
       "4    CA  California                    41259           69324"
      ]
     },
     "execution_count": 42,
     "metadata": {},
     "output_type": "execute_result"
    }
   ],
   "source": [
    "teacher_salary = os.path.join('Resources', 'teachersalary.csv')\n",
    "teacher_df = pd.read_csv(teacher_salary)\n",
    "teacher_df.head()"
   ]
  },
  {
   "cell_type": "code",
   "execution_count": 47,
   "metadata": {},
   "outputs": [
    {
     "data": {
      "text/html": [
       "<iframe id=\"igraph\" scrolling=\"no\" style=\"border:none;\" seamless=\"seamless\" src=\"https://plot.ly/~abi.mvasquez/104.embed\" height=\"525px\" width=\"100%\"></iframe>"
      ],
      "text/plain": [
       "<plotly.tools.PlotlyDisplay object>"
      ]
     },
     "execution_count": 47,
     "metadata": {},
     "output_type": "execute_result"
    }
   ],
   "source": [
    "for col in teacher_df.columns:\n",
    "    teacher_df[col] = teacher_df[col].astype(str)\n",
    "\n",
    "scl = [[0.0, 'rgb(242,240,247)'],[0.2, 'rgb(218,218,235)'],[0.4, 'rgb(188,189,220)'],\n",
    "            [0.6, 'rgb(158,154,200)'],[0.8, 'rgb(117,107,177)'],[1.0, 'rgb(84,39,143)']]\n",
    "\n",
    "teacher_df['State'] = teacher_df['State'] + '<br>' +\\\n",
    "    'Starting Salary: ' +teacher_df['AVERAGE STARTING SALARY'] +\\\n",
    "    'Average Salary: '+teacher_df['AVERAGE SALARY']\n",
    "\n",
    "data = [ dict(\n",
    "        type='choropleth',\n",
    "        colorscale = scl,\n",
    "        autocolorscale = False,\n",
    "        locations = teacher_df['State'],\n",
    "        z = teacher_df['AVERAGE SALARY'].astype(float),\n",
    "        locationmode = 'USA-states',\n",
    "        text = teacher_df['State'],\n",
    "        marker = dict(\n",
    "            line = dict (\n",
    "                color = 'rgb(255,255,255)',\n",
    "                width = 2\n",
    "            ) ),\n",
    "        colorbar = dict(\n",
    "            title = \"Teacher Average Salary\")\n",
    "        ) ]\n",
    "\n",
    "layout = dict(\n",
    "        title = 'Average Teacher Salaries in Each State (2017)<br>(Hover for breakdown)',\n",
    "        geo = dict(\n",
    "            scope='usa',\n",
    "            projection=dict( type='albers usa' ),\n",
    "            showlakes = True,\n",
    "            lakecolor = 'rgb(255, 255, 255)'),\n",
    "             )\n",
    "    \n",
    "fig = dict( data=data, layout=layout )\n",
    "py.iplot( fig, filename='d3-cloropleth-map' )"
   ]
  },
  {
   "cell_type": "markdown",
   "metadata": {},
   "source": [
    "### High School Grad Rates ###"
   ]
  },
  {
   "cell_type": "code",
   "execution_count": 49,
   "metadata": {},
   "outputs": [],
   "source": [
    "# importing csv and creating dataframe ***need csv\n",
    "# csv=pd.read_csv('hsgraddata.csv')\n",
    "\n",
    "# hsgraddf=pd.DataFrame(csv)\n",
    "# hsgraddf"
   ]
  },
  {
   "cell_type": "code",
   "execution_count": 50,
   "metadata": {
    "collapsed": true
   },
   "outputs": [],
   "source": [
    "#hsgraddf=pd.DataFrame(csv)\n",
    "#hsgraddf.drop['Unnamed:0']"
   ]
  },
  {
   "cell_type": "code",
   "execution_count": 51,
   "metadata": {
    "collapsed": true
   },
   "outputs": [],
   "source": [
    "# trc = dict(type='choropleth', locations=['US','AL','AK','AZ','AR','CA','CO','CT','DE','DOC','FL','GA','HI','ID','IL','IN','IA',\n",
    "#                                          'KS','KY','LA','ME','MD','MA','MI','MN','MS','MO','MT','NE','NV','NH','NJ','NM',\n",
    "#                                          'NY','NC','ND','OH','OK','OR','PA','RI','SC','SD','TN','TX','UT','VT','VA','WA',\n",
    "#                                          'WV','WI','WY']\n",
    "# , locationmode='USA-states', colorscale='Picnic',\n",
    "#           z=hsgraddf['2014-15'], colorbar = dict(\n",
    "#            title = 'Percent (%)'))\n",
    "# lyt=dict(geo=dict(scope='usa'))\n",
    "# map=go.Figure(data=[trc], layout=lyt)\n",
    "# py.iplot(map)"
   ]
  },
  {
   "cell_type": "markdown",
   "metadata": {},
   "source": [
    "### note sure which data this is??? ###"
   ]
  },
  {
   "cell_type": "code",
   "execution_count": 54,
   "metadata": {},
   "outputs": [],
   "source": [
    "# https://nces.ed.gov/ccd/tables/ACGR_RE_and_characteristics_2015-16.asp\n",
    "# excel file is not uploaded onto git\n",
    "\n",
    "# data1 = pd.read_excel ('ACGR_RE_Characteristics_2015-16.xlsx')\n",
    "# data1.head()"
   ]
  },
  {
   "cell_type": "code",
   "execution_count": 55,
   "metadata": {
    "collapsed": true
   },
   "outputs": [],
   "source": [
    "# data2 = pd.read_excel('Extra_data_AppendixG.xlsx')\n",
    "# data2.head()"
   ]
  },
  {
   "cell_type": "code",
   "execution_count": 56,
   "metadata": {
    "collapsed": true
   },
   "outputs": [],
   "source": [
    "#merged both dataframes\n",
    "# df = pd.merge(data1, data2, on = 'State')\n",
    "# df"
   ]
  },
  {
   "cell_type": "code",
   "execution_count": null,
   "metadata": {
    "collapsed": true
   },
   "outputs": [],
   "source": [
    "# data map of the data\n",
    "# trc = dict(\n",
    "#   type ='choropleth', locations = df['Abb'], locationmode = 'USA-states', colorscale='Rainbow', z=df[\"Total\"])\n",
    "\n",
    "# lyt = dict(geo = dict(scope ='usa'))\n",
    "# map = go.Figure(data=[trc],\n",
    "# layout = lyt)\n",
    "# py.iplot(map)"
   ]
  }
 ],
 "metadata": {
  "kernelspec": {
   "display_name": "Python [conda env:PythonData]",
   "language": "python",
   "name": "conda-env-PythonData-py"
  },
  "language_info": {
   "codemirror_mode": {
    "name": "ipython",
    "version": 3
   },
   "file_extension": ".py",
   "mimetype": "text/x-python",
   "name": "python",
   "nbconvert_exporter": "python",
   "pygments_lexer": "ipython3",
   "version": "3.6.3"
  }
 },
 "nbformat": 4,
 "nbformat_minor": 2
}
